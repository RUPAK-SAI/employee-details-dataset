{
  "nbformat": 4,
  "nbformat_minor": 0,
  "metadata": {
    "colab": {
      "name": "EMPLOYEE PERFORMANCE PREDICTION.ipynb",
      "provenance": [],
      "collapsed_sections": [],
      "authorship_tag": "ABX9TyMcMRwWgN9sjOK1e8ytn2U8",
      "include_colab_link": true
    },
    "kernelspec": {
      "name": "python3",
      "display_name": "Python 3"
    },
    "language_info": {
      "name": "python"
    }
  },
  "cells": [
    {
      "cell_type": "markdown",
      "metadata": {
        "id": "view-in-github",
        "colab_type": "text"
      },
      "source": [
        "<a href=\"https://colab.research.google.com/github/RUPAK-SAI/employee-details-dataset/blob/main/EMPLOYEE_PERFORMANCE_PREDICTION.ipynb\" target=\"_parent\"><img src=\"https://colab.research.google.com/assets/colab-badge.svg\" alt=\"Open In Colab\"/></a>"
      ]
    },
    {
      "cell_type": "markdown",
      "source": [
        "# OBJECTIVE "
      ],
      "metadata": {
        "id": "y9zgnvPIH2ip"
      }
    },
    {
      "cell_type": "markdown",
      "source": [
        "\n",
        " THE MAIN OBJECTIVE OF THIS PROJECT IS TO PREDICT THE EMPLOYEE PERFORMANCE.\n",
        "         BY USING THE GIVEN DATASET WE CAN PREDICT THE PERSONS WHO ARE GIVING THE HIGH PERFORMANCE IN THE PARTICULAR INSTUTION OR COMPANY.\n",
        "\n",
        "\n",
        "\n",
        "\n",
        "\n",
        "\n",
        "\n",
        "\n"
      ],
      "metadata": {
        "id": "TaLsrYRRKZz6"
      }
    },
    {
      "cell_type": "markdown",
      "source": [
        "# IMPORTING ALL THE REQUIRED LIBRARIES"
      ],
      "metadata": {
        "id": "iZ5KlHFyHjop"
      }
    },
    {
      "cell_type": "code",
      "source": [
        "import numpy as np         #it is used to work in domain of linear algebra,fourier transform"
      ],
      "metadata": {
        "id": "9EOAQr6ldAjD"
      },
      "execution_count": null,
      "outputs": []
    },
    {
      "cell_type": "code",
      "source": [
        "import pandas as pd                      #used for data manipulation \n",
        "import matplotlib.pyplot as plt          #used for plotting graphs\n",
        "import seaborn as sb                     #used for making statistical graphs\n",
        "from sklearn.linear_model import LogisticRegression        #used for statistical modelling like classification ,modelling ,regression\n",
        "from sklearn.ensemble import RandomForestClassifier,GradientBoostingClassifier\n",
        "from sklearn.model_selection import train_test_split\n",
        "from sklearn.pipeline import make_pipeline\n",
        "from sklearn.preprocessing import StandardScaler\n",
        "from sklearn.model_selection import GridSearchCV\n",
        "from sklearn.metrics import confusion_matrix,accuracy_score,f1_score,roc_curve,roc_auc_score\n"
      ],
      "metadata": {
        "id": "e31H8VlydAwi"
      },
      "execution_count": null,
      "outputs": []
    },
    {
      "cell_type": "markdown",
      "source": [
        "\n",
        "\n",
        "# **DATASET :**"
      ],
      "metadata": {
        "id": "lHuLesYbISCx"
      }
    },
    {
      "cell_type": "markdown",
      "source": [
        " IN THIS DATASET WE ARE HAVING THE EMPLOYEES OF 50 MEMBERS OF DIFFERENT DEPARTMENTS AND HAVE DIFFERENT SALARIES.THEY HAVE BEEN WORKED ON MANY DIFFERENT PROJECTS .EACH AND EVERY EMPLOYEE IS DIFFERENTIATED WITH THEIR OWN ATTRIBUTES.\n",
        "  THERE ARE 11 DIFFERENT ATTRIBUTES THAT DIFFERENTIATES EACH AND EVERY PERSON FROM ONE ANOTHER"
      ],
      "metadata": {
        "id": "6oxD5m8TI8qX"
      }
    },
    {
      "cell_type": "code",
      "source": [
        "df = pd.read_csv(r'https://raw.githubusercontent.com/RUPAK-SAI/employee-details-dataset/main/employee_details_dataset.csv')     #importing dataset"
      ],
      "metadata": {
        "id": "8WQd3L69dA5j"
      },
      "execution_count": null,
      "outputs": []
    },
    {
      "cell_type": "code",
      "source": [
        "df.head()    #used to know the  model of dataset"
      ],
      "metadata": {
        "colab": {
          "base_uri": "https://localhost:8080/",
          "height": 206
        },
        "id": "XoHGOK99dkeN",
        "outputId": "1e0c2bfb-8c00-4f94-89c8-e7d771db8d88"
      },
      "execution_count": null,
      "outputs": [
        {
          "output_type": "execute_result",
          "data": {
            "text/html": [
              "\n",
              "  <div id=\"df-2a40b79c-2a20-4013-8694-13d405f48118\">\n",
              "    <div class=\"colab-df-container\">\n",
              "      <div>\n",
              "<style scoped>\n",
              "    .dataframe tbody tr th:only-of-type {\n",
              "        vertical-align: middle;\n",
              "    }\n",
              "\n",
              "    .dataframe tbody tr th {\n",
              "        vertical-align: top;\n",
              "    }\n",
              "\n",
              "    .dataframe thead th {\n",
              "        text-align: right;\n",
              "    }\n",
              "</style>\n",
              "<table border=\"1\" class=\"dataframe\">\n",
              "  <thead>\n",
              "    <tr style=\"text-align: right;\">\n",
              "      <th></th>\n",
              "      <th>employee_id</th>\n",
              "      <th>employee_name</th>\n",
              "      <th>email</th>\n",
              "      <th>phone_no</th>\n",
              "      <th>hire_date</th>\n",
              "      <th>job_id</th>\n",
              "      <th>salary</th>\n",
              "      <th>no_of_projects</th>\n",
              "      <th>manager_id</th>\n",
              "      <th>department_id</th>\n",
              "      <th>working_hours</th>\n",
              "    </tr>\n",
              "  </thead>\n",
              "  <tbody>\n",
              "    <tr>\n",
              "      <th>0</th>\n",
              "      <td>501</td>\n",
              "      <td>Rama</td>\n",
              "      <td>rama@gmail.com</td>\n",
              "      <td>7575000470</td>\n",
              "      <td>16-11-2009</td>\n",
              "      <td>111</td>\n",
              "      <td>612022</td>\n",
              "      <td>20</td>\n",
              "      <td>8111</td>\n",
              "      <td>724</td>\n",
              "      <td>234</td>\n",
              "    </tr>\n",
              "    <tr>\n",
              "      <th>1</th>\n",
              "      <td>502</td>\n",
              "      <td>Ravi</td>\n",
              "      <td>ravi@gmail.com</td>\n",
              "      <td>7741071474</td>\n",
              "      <td>17-03-2004</td>\n",
              "      <td>222</td>\n",
              "      <td>558253</td>\n",
              "      <td>20</td>\n",
              "      <td>9524</td>\n",
              "      <td>536</td>\n",
              "      <td>264</td>\n",
              "    </tr>\n",
              "    <tr>\n",
              "      <th>2</th>\n",
              "      <td>503</td>\n",
              "      <td>Raj</td>\n",
              "      <td>raju@gmail.com</td>\n",
              "      <td>8283951351</td>\n",
              "      <td>16-11-2009</td>\n",
              "      <td>333</td>\n",
              "      <td>882978</td>\n",
              "      <td>20</td>\n",
              "      <td>4711</td>\n",
              "      <td>724</td>\n",
              "      <td>255</td>\n",
              "    </tr>\n",
              "    <tr>\n",
              "      <th>3</th>\n",
              "      <td>504</td>\n",
              "      <td>Rajesh</td>\n",
              "      <td>rajesh@gmail.com</td>\n",
              "      <td>9518203146</td>\n",
              "      <td>19-10-2011</td>\n",
              "      <td>444</td>\n",
              "      <td>885884</td>\n",
              "      <td>23</td>\n",
              "      <td>4235</td>\n",
              "      <td>724</td>\n",
              "      <td>250</td>\n",
              "    </tr>\n",
              "    <tr>\n",
              "      <th>4</th>\n",
              "      <td>505</td>\n",
              "      <td>Shiva</td>\n",
              "      <td>va@gmail.com</td>\n",
              "      <td>7894632886</td>\n",
              "      <td>13-08-1998</td>\n",
              "      <td>111</td>\n",
              "      <td>773391</td>\n",
              "      <td>19</td>\n",
              "      <td>6982</td>\n",
              "      <td>856</td>\n",
              "      <td>250</td>\n",
              "    </tr>\n",
              "  </tbody>\n",
              "</table>\n",
              "</div>\n",
              "      <button class=\"colab-df-convert\" onclick=\"convertToInteractive('df-2a40b79c-2a20-4013-8694-13d405f48118')\"\n",
              "              title=\"Convert this dataframe to an interactive table.\"\n",
              "              style=\"display:none;\">\n",
              "        \n",
              "  <svg xmlns=\"http://www.w3.org/2000/svg\" height=\"24px\"viewBox=\"0 0 24 24\"\n",
              "       width=\"24px\">\n",
              "    <path d=\"M0 0h24v24H0V0z\" fill=\"none\"/>\n",
              "    <path d=\"M18.56 5.44l.94 2.06.94-2.06 2.06-.94-2.06-.94-.94-2.06-.94 2.06-2.06.94zm-11 1L8.5 8.5l.94-2.06 2.06-.94-2.06-.94L8.5 2.5l-.94 2.06-2.06.94zm10 10l.94 2.06.94-2.06 2.06-.94-2.06-.94-.94-2.06-.94 2.06-2.06.94z\"/><path d=\"M17.41 7.96l-1.37-1.37c-.4-.4-.92-.59-1.43-.59-.52 0-1.04.2-1.43.59L10.3 9.45l-7.72 7.72c-.78.78-.78 2.05 0 2.83L4 21.41c.39.39.9.59 1.41.59.51 0 1.02-.2 1.41-.59l7.78-7.78 2.81-2.81c.8-.78.8-2.07 0-2.86zM5.41 20L4 18.59l7.72-7.72 1.47 1.35L5.41 20z\"/>\n",
              "  </svg>\n",
              "      </button>\n",
              "      \n",
              "  <style>\n",
              "    .colab-df-container {\n",
              "      display:flex;\n",
              "      flex-wrap:wrap;\n",
              "      gap: 12px;\n",
              "    }\n",
              "\n",
              "    .colab-df-convert {\n",
              "      background-color: #E8F0FE;\n",
              "      border: none;\n",
              "      border-radius: 50%;\n",
              "      cursor: pointer;\n",
              "      display: none;\n",
              "      fill: #1967D2;\n",
              "      height: 32px;\n",
              "      padding: 0 0 0 0;\n",
              "      width: 32px;\n",
              "    }\n",
              "\n",
              "    .colab-df-convert:hover {\n",
              "      background-color: #E2EBFA;\n",
              "      box-shadow: 0px 1px 2px rgba(60, 64, 67, 0.3), 0px 1px 3px 1px rgba(60, 64, 67, 0.15);\n",
              "      fill: #174EA6;\n",
              "    }\n",
              "\n",
              "    [theme=dark] .colab-df-convert {\n",
              "      background-color: #3B4455;\n",
              "      fill: #D2E3FC;\n",
              "    }\n",
              "\n",
              "    [theme=dark] .colab-df-convert:hover {\n",
              "      background-color: #434B5C;\n",
              "      box-shadow: 0px 1px 3px 1px rgba(0, 0, 0, 0.15);\n",
              "      filter: drop-shadow(0px 1px 2px rgba(0, 0, 0, 0.3));\n",
              "      fill: #FFFFFF;\n",
              "    }\n",
              "  </style>\n",
              "\n",
              "      <script>\n",
              "        const buttonEl =\n",
              "          document.querySelector('#df-2a40b79c-2a20-4013-8694-13d405f48118 button.colab-df-convert');\n",
              "        buttonEl.style.display =\n",
              "          google.colab.kernel.accessAllowed ? 'block' : 'none';\n",
              "\n",
              "        async function convertToInteractive(key) {\n",
              "          const element = document.querySelector('#df-2a40b79c-2a20-4013-8694-13d405f48118');\n",
              "          const dataTable =\n",
              "            await google.colab.kernel.invokeFunction('convertToInteractive',\n",
              "                                                     [key], {});\n",
              "          if (!dataTable) return;\n",
              "\n",
              "          const docLinkHtml = 'Like what you see? Visit the ' +\n",
              "            '<a target=\"_blank\" href=https://colab.research.google.com/notebooks/data_table.ipynb>data table notebook</a>'\n",
              "            + ' to learn more about interactive tables.';\n",
              "          element.innerHTML = '';\n",
              "          dataTable['output_type'] = 'display_data';\n",
              "          await google.colab.output.renderOutput(dataTable, element);\n",
              "          const docLink = document.createElement('div');\n",
              "          docLink.innerHTML = docLinkHtml;\n",
              "          element.appendChild(docLink);\n",
              "        }\n",
              "      </script>\n",
              "    </div>\n",
              "  </div>\n",
              "  "
            ],
            "text/plain": [
              "   employee_id employee_name  ... department_id  working_hours\n",
              "0          501          Rama  ...           724            234\n",
              "1          502          Ravi  ...           536            264\n",
              "2          503           Raj  ...           724            255\n",
              "3          504        Rajesh  ...           724            250\n",
              "4          505         Shiva  ...           856            250\n",
              "\n",
              "[5 rows x 11 columns]"
            ]
          },
          "metadata": {},
          "execution_count": 5
        }
      ]
    },
    {
      "cell_type": "code",
      "source": [
        "df.columns      #used to know the columns present in the dataset"
      ],
      "metadata": {
        "colab": {
          "base_uri": "https://localhost:8080/"
        },
        "id": "G8FI3Cprdknp",
        "outputId": "50297bde-a476-4027-83a6-4302cd421eec"
      },
      "execution_count": null,
      "outputs": [
        {
          "output_type": "execute_result",
          "data": {
            "text/plain": [
              "Index(['employee_id', 'employee_name', 'email', 'phone_no', 'hire_date',\n",
              "       'job_id', 'salary', 'no_of_projects', 'manager_id', 'department_id',\n",
              "       'working_hours'],\n",
              "      dtype='object')"
            ]
          },
          "metadata": {},
          "execution_count": 6
        }
      ]
    },
    {
      "cell_type": "code",
      "source": [
        "X = df[['employee_id', 'employee_name', 'email', 'phone_no', 'hire_date',\n",
        "       'job_id', 'salary', 'no_of_projects', 'manager_id', 'department_id',\n",
        "       'working_hours']]"
      ],
      "metadata": {
        "id": "qYE-tWyAdkuQ"
      },
      "execution_count": null,
      "outputs": []
    },
    {
      "cell_type": "markdown",
      "source": [
        "# IN THIS DATASET WE ARE HAVING 11 COLUMNS AND 50 ROWS."
      ],
      "metadata": {
        "id": "Al4xLTRmNxv-"
      }
    },
    {
      "cell_type": "code",
      "source": [
        "X.shape  #to know the no. of columns and rows present in the dataset"
      ],
      "metadata": {
        "colab": {
          "base_uri": "https://localhost:8080/"
        },
        "id": "vhZwA0kld64_",
        "outputId": "0b2cd006-409c-46c0-f0d7-293f0c6b9e80"
      },
      "execution_count": null,
      "outputs": [
        {
          "output_type": "execute_result",
          "data": {
            "text/plain": [
              "(50, 11)"
            ]
          },
          "metadata": {},
          "execution_count": 8
        }
      ]
    },
    {
      "cell_type": "code",
      "source": [
        "df.info()    #to know the summary of the dataset like datatpe "
      ],
      "metadata": {
        "colab": {
          "base_uri": "https://localhost:8080/"
        },
        "id": "uGBZoL9gd7Fu",
        "outputId": "d1e7120b-1e89-4aaa-eb2b-f76338df5c3c"
      },
      "execution_count": null,
      "outputs": [
        {
          "output_type": "stream",
          "name": "stdout",
          "text": [
            "<class 'pandas.core.frame.DataFrame'>\n",
            "RangeIndex: 50 entries, 0 to 49\n",
            "Data columns (total 11 columns):\n",
            " #   Column          Non-Null Count  Dtype \n",
            "---  ------          --------------  ----- \n",
            " 0   employee_id     50 non-null     int64 \n",
            " 1   employee_name   50 non-null     object\n",
            " 2   email           50 non-null     object\n",
            " 3   phone_no        50 non-null     int64 \n",
            " 4   hire_date       50 non-null     object\n",
            " 5   job_id          50 non-null     int64 \n",
            " 6   salary          50 non-null     int64 \n",
            " 7   no_of_projects  50 non-null     int64 \n",
            " 8   manager_id      50 non-null     int64 \n",
            " 9   department_id   50 non-null     int64 \n",
            " 10  working_hours   50 non-null     int64 \n",
            "dtypes: int64(8), object(3)\n",
            "memory usage: 4.4+ KB\n"
          ]
        }
      ]
    },
    {
      "cell_type": "code",
      "source": [
        "df_numerical = df.select_dtypes(include='int64')   #here to select the attributes of integer datatype"
      ],
      "metadata": {
        "id": "oLfkOb6TeBLg"
      },
      "execution_count": null,
      "outputs": []
    },
    {
      "cell_type": "markdown",
      "source": [
        "# GRAPHICAL REPRESENTATION OF THE DATA"
      ],
      "metadata": {
        "id": "kMXccDVDJM2l"
      }
    },
    {
      "cell_type": "code",
      "source": [
        "df_numerical.hist(figsize=(10,10),);         #to draw the graphs for the numeric datatype"
      ],
      "metadata": {
        "colab": {
          "base_uri": "https://localhost:8080/",
          "height": 607
        },
        "id": "LqarpPQjeBU-",
        "outputId": "458ea6e4-028b-4929-a875-13ba39a28c58"
      },
      "execution_count": null,
      "outputs": [
        {
          "output_type": "display_data",
          "data": {
            "image/png": "[encoded data removed]",
            "text/plain": [
              "<Figure size 720x720 with 9 Axes>"
            ]
          },
          "metadata": {
            "needs_background": "light"
          }
        }
      ]
    },
    {
      "cell_type": "code",
      "source": [
        "df.employee_id.fillna(0, inplace=True)                   #to fill the default values with 0 when it is true\n",
        "df.phone_no .fillna(0, inplace=True)  \n",
        "df.job_id.fillna(0, inplace=True) \n",
        "df.salary.fillna(0, inplace=True)   \n",
        "df.no_of_projects.fillna(0, inplace=True) \n",
        "df.manager_id.fillna(0, inplace=True)\n",
        "df.department_id.fillna(0, inplace=True)\n",
        "df.working_hours.fillna(0, inplace=True)"
      ],
      "metadata": {
        "id": "VFa9o6t0eBdt"
      },
      "execution_count": null,
      "outputs": []
    },
    {
      "cell_type": "markdown",
      "source": [
        "# CORRELATION OF THE DATASET"
      ],
      "metadata": {
        "id": "a-YliUiuJYX8"
      }
    },
    {
      "cell_type": "code",
      "source": [
        "df.corr()              # to find the corelation for for the given dataset"
      ],
      "metadata": {
        "colab": {
          "base_uri": "https://localhost:8080/",
          "height": 300
        },
        "id": "5jfYEbI7eN-u",
        "outputId": "a3bad052-4e0f-4ca3-feab-a6483a2b37da"
      },
      "execution_count": null,
      "outputs": [
        {
          "output_type": "execute_result",
          "data": {
            "text/html": [
              "\n",
              "  <div id=\"df-3a47c0f0-ae10-4e0e-b551-590386ab0a94\">\n",
              "    <div class=\"colab-df-container\">\n",
              "      <div>\n",
              "<style scoped>\n",
              "    .dataframe tbody tr th:only-of-type {\n",
              "        vertical-align: middle;\n",
              "    }\n",
              "\n",
              "    .dataframe tbody tr th {\n",
              "        vertical-align: top;\n",
              "    }\n",
              "\n",
              "    .dataframe thead th {\n",
              "        text-align: right;\n",
              "    }\n",
              "</style>\n",
              "<table border=\"1\" class=\"dataframe\">\n",
              "  <thead>\n",
              "    <tr style=\"text-align: right;\">\n",
              "      <th></th>\n",
              "      <th>employee_id</th>\n",
              "      <th>phone_no</th>\n",
              "      <th>job_id</th>\n",
              "      <th>salary</th>\n",
              "      <th>no_of_projects</th>\n",
              "      <th>manager_id</th>\n",
              "      <th>department_id</th>\n",
              "      <th>working_hours</th>\n",
              "    </tr>\n",
              "  </thead>\n",
              "  <tbody>\n",
              "    <tr>\n",
              "      <th>employee_id</th>\n",
              "      <td>1.000000</td>\n",
              "      <td>-0.059449</td>\n",
              "      <td>0.110719</td>\n",
              "      <td>-0.136309</td>\n",
              "      <td>0.037862</td>\n",
              "      <td>0.027025</td>\n",
              "      <td>0.035483</td>\n",
              "      <td>0.192342</td>\n",
              "    </tr>\n",
              "    <tr>\n",
              "      <th>phone_no</th>\n",
              "      <td>-0.059449</td>\n",
              "      <td>1.000000</td>\n",
              "      <td>-0.064429</td>\n",
              "      <td>-0.029391</td>\n",
              "      <td>0.168561</td>\n",
              "      <td>-0.179931</td>\n",
              "      <td>-0.143217</td>\n",
              "      <td>-0.122275</td>\n",
              "    </tr>\n",
              "    <tr>\n",
              "      <th>job_id</th>\n",
              "      <td>0.110719</td>\n",
              "      <td>-0.064429</td>\n",
              "      <td>1.000000</td>\n",
              "      <td>0.078642</td>\n",
              "      <td>0.022342</td>\n",
              "      <td>-0.226668</td>\n",
              "      <td>0.108834</td>\n",
              "      <td>0.225209</td>\n",
              "    </tr>\n",
              "    <tr>\n",
              "      <th>salary</th>\n",
              "      <td>-0.136309</td>\n",
              "      <td>-0.029391</td>\n",
              "      <td>0.078642</td>\n",
              "      <td>1.000000</td>\n",
              "      <td>-0.025625</td>\n",
              "      <td>0.017393</td>\n",
              "      <td>0.104568</td>\n",
              "      <td>-0.030480</td>\n",
              "    </tr>\n",
              "    <tr>\n",
              "      <th>no_of_projects</th>\n",
              "      <td>0.037862</td>\n",
              "      <td>0.168561</td>\n",
              "      <td>0.022342</td>\n",
              "      <td>-0.025625</td>\n",
              "      <td>1.000000</td>\n",
              "      <td>-0.025904</td>\n",
              "      <td>0.026296</td>\n",
              "      <td>0.017813</td>\n",
              "    </tr>\n",
              "    <tr>\n",
              "      <th>manager_id</th>\n",
              "      <td>0.027025</td>\n",
              "      <td>-0.179931</td>\n",
              "      <td>-0.226668</td>\n",
              "      <td>0.017393</td>\n",
              "      <td>-0.025904</td>\n",
              "      <td>1.000000</td>\n",
              "      <td>-0.020505</td>\n",
              "      <td>-0.090228</td>\n",
              "    </tr>\n",
              "    <tr>\n",
              "      <th>department_id</th>\n",
              "      <td>0.035483</td>\n",
              "      <td>-0.143217</td>\n",
              "      <td>0.108834</td>\n",
              "      <td>0.104568</td>\n",
              "      <td>0.026296</td>\n",
              "      <td>-0.020505</td>\n",
              "      <td>1.000000</td>\n",
              "      <td>-0.181475</td>\n",
              "    </tr>\n",
              "    <tr>\n",
              "      <th>working_hours</th>\n",
              "      <td>0.192342</td>\n",
              "      <td>-0.122275</td>\n",
              "      <td>0.225209</td>\n",
              "      <td>-0.030480</td>\n",
              "      <td>0.017813</td>\n",
              "      <td>-0.090228</td>\n",
              "      <td>-0.181475</td>\n",
              "      <td>1.000000</td>\n",
              "    </tr>\n",
              "  </tbody>\n",
              "</table>\n",
              "</div>\n",
              "      <button class=\"colab-df-convert\" onclick=\"convertToInteractive('df-3a47c0f0-ae10-4e0e-b551-590386ab0a94')\"\n",
              "              title=\"Convert this dataframe to an interactive table.\"\n",
              "              style=\"display:none;\">\n",
              "        \n",
              "  <svg xmlns=\"http://www.w3.org/2000/svg\" height=\"24px\"viewBox=\"0 0 24 24\"\n",
              "       width=\"24px\">\n",
              "    <path d=\"M0 0h24v24H0V0z\" fill=\"none\"/>\n",
              "    <path d=\"M18.56 5.44l.94 2.06.94-2.06 2.06-.94-2.06-.94-.94-2.06-.94 2.06-2.06.94zm-11 1L8.5 8.5l.94-2.06 2.06-.94-2.06-.94L8.5 2.5l-.94 2.06-2.06.94zm10 10l.94 2.06.94-2.06 2.06-.94-2.06-.94-.94-2.06-.94 2.06-2.06.94z\"/><path d=\"M17.41 7.96l-1.37-1.37c-.4-.4-.92-.59-1.43-.59-.52 0-1.04.2-1.43.59L10.3 9.45l-7.72 7.72c-.78.78-.78 2.05 0 2.83L4 21.41c.39.39.9.59 1.41.59.51 0 1.02-.2 1.41-.59l7.78-7.78 2.81-2.81c.8-.78.8-2.07 0-2.86zM5.41 20L4 18.59l7.72-7.72 1.47 1.35L5.41 20z\"/>\n",
              "  </svg>\n",
              "      </button>\n",
              "      \n",
              "  <style>\n",
              "    .colab-df-container {\n",
              "      display:flex;\n",
              "      flex-wrap:wrap;\n",
              "      gap: 12px;\n",
              "    }\n",
              "\n",
              "    .colab-df-convert {\n",
              "      background-color: #E8F0FE;\n",
              "      border: none;\n",
              "      border-radius: 50%;\n",
              "      cursor: pointer;\n",
              "      display: none;\n",
              "      fill: #1967D2;\n",
              "      height: 32px;\n",
              "      padding: 0 0 0 0;\n",
              "      width: 32px;\n",
              "    }\n",
              "\n",
              "    .colab-df-convert:hover {\n",
              "      background-color: #E2EBFA;\n",
              "      box-shadow: 0px 1px 2px rgba(60, 64, 67, 0.3), 0px 1px 3px 1px rgba(60, 64, 67, 0.15);\n",
              "      fill: #174EA6;\n",
              "    }\n",
              "\n",
              "    [theme=dark] .colab-df-convert {\n",
              "      background-color: #3B4455;\n",
              "      fill: #D2E3FC;\n",
              "    }\n",
              "\n",
              "    [theme=dark] .colab-df-convert:hover {\n",
              "      background-color: #434B5C;\n",
              "      box-shadow: 0px 1px 3px 1px rgba(0, 0, 0, 0.15);\n",
              "      filter: drop-shadow(0px 1px 2px rgba(0, 0, 0, 0.3));\n",
              "      fill: #FFFFFF;\n",
              "    }\n",
              "  </style>\n",
              "\n",
              "      <script>\n",
              "        const buttonEl =\n",
              "          document.querySelector('#df-3a47c0f0-ae10-4e0e-b551-590386ab0a94 button.colab-df-convert');\n",
              "        buttonEl.style.display =\n",
              "          google.colab.kernel.accessAllowed ? 'block' : 'none';\n",
              "\n",
              "        async function convertToInteractive(key) {\n",
              "          const element = document.querySelector('#df-3a47c0f0-ae10-4e0e-b551-590386ab0a94');\n",
              "          const dataTable =\n",
              "            await google.colab.kernel.invokeFunction('convertToInteractive',\n",
              "                                                     [key], {});\n",
              "          if (!dataTable) return;\n",
              "\n",
              "          const docLinkHtml = 'Like what you see? Visit the ' +\n",
              "            '<a target=\"_blank\" href=https://colab.research.google.com/notebooks/data_table.ipynb>data table notebook</a>'\n",
              "            + ' to learn more about interactive tables.';\n",
              "          element.innerHTML = '';\n",
              "          dataTable['output_type'] = 'display_data';\n",
              "          await google.colab.output.renderOutput(dataTable, element);\n",
              "          const docLink = document.createElement('div');\n",
              "          docLink.innerHTML = docLinkHtml;\n",
              "          element.appendChild(docLink);\n",
              "        }\n",
              "      </script>\n",
              "    </div>\n",
              "  </div>\n",
              "  "
            ],
            "text/plain": [
              "                employee_id  phone_no  ...  department_id  working_hours\n",
              "employee_id        1.000000 -0.059449  ...       0.035483       0.192342\n",
              "phone_no          -0.059449  1.000000  ...      -0.143217      -0.122275\n",
              "job_id             0.110719 -0.064429  ...       0.108834       0.225209\n",
              "salary            -0.136309 -0.029391  ...       0.104568      -0.030480\n",
              "no_of_projects     0.037862  0.168561  ...       0.026296       0.017813\n",
              "manager_id         0.027025 -0.179931  ...      -0.020505      -0.090228\n",
              "department_id      0.035483 -0.143217  ...       1.000000      -0.181475\n",
              "working_hours      0.192342 -0.122275  ...      -0.181475       1.000000\n",
              "\n",
              "[8 rows x 8 columns]"
            ]
          },
          "metadata": {},
          "execution_count": 13
        }
      ]
    },
    {
      "cell_type": "code",
      "source": [
        "sb.heatmap(df.corr(),cmap=\"magma\",annot=True,linecolor=\"black\",linewidths=1)    #the heatmap for the coorelation of the dataset with the linecolor black and width is 1"
      ],
      "metadata": {
        "colab": {
          "base_uri": "https://localhost:8080/",
          "height": 349
        },
        "id": "10puIw2-eOAq",
        "outputId": "86b6afd2-af34-422a-afb1-66723bad8c57"
      },
      "execution_count": null,
      "outputs": [
        {
          "output_type": "execute_result",
          "data": {
            "text/plain": [
              "<matplotlib.axes._subplots.AxesSubplot at 0x7fcfba32e110>"
            ]
          },
          "metadata": {},
          "execution_count": 14
        },
        {
          "output_type": "display_data",
          "data": {
            "image/png": "[encoded data removed]",
            "text/plain": [
              "<Figure size 432x288 with 2 Axes>"
            ]
          },
          "metadata": {
            "needs_background": "light"
          }
        }
      ]
    },
    {
      "cell_type": "code",
      "source": [
        "for column in df.dtypes[df.dtypes=='int64'].index:               #the countplot for the integer datatype \n",
        "    sb.countplot(data=df, y='{}'.format(column))"
      ],
      "metadata": {
        "colab": {
          "base_uri": "https://localhost:8080/",
          "height": 279
        },
        "id": "-lPCGxepeOJF",
        "outputId": "07a78ac7-b9ed-4b48-9e4b-f8eadd51c64c"
      },
      "execution_count": null,
      "outputs": [
        {
          "output_type": "display_data",
          "data": {
            "image/png": "[encoded data removed]",
            "text/plain": [
              "<Figure size 432x288 with 1 Axes>"
            ]
          },
          "metadata": {
            "needs_background": "light"
          }
        }
      ]
    },
    {
      "cell_type": "code",
      "source": [
        "for column in df.dtypes[df.dtypes=='object'].index:\n",
        "    sb.countplot(data=df, y='{}'.format(column))        #countplot for the object datatype"
      ],
      "metadata": {
        "colab": {
          "base_uri": "https://localhost:8080/",
          "height": 279
        },
        "id": "REXBJxUTebAe",
        "outputId": "7a91b00b-c8b4-45f4-a7ad-14f64f51a330"
      },
      "execution_count": null,
      "outputs": [
        {
          "output_type": "display_data",
          "data": {
            "image/png": "[encoded data removed]",
            "text/plain": [
              "<Figure size 432x288 with 1 Axes>"
            ]
          },
          "metadata": {
            "needs_background": "light"
          }
        }
      ]
    },
    {
      "cell_type": "code",
      "source": [
        "sb.violinplot(y='no_of_projects', x='manager_id', data=df);         #the violion plot between the no_of_projects and the manager_id"
      ],
      "metadata": {
        "colab": {
          "base_uri": "https://localhost:8080/",
          "height": 280
        },
        "id": "raU09p6VecOY",
        "outputId": "a8266f73-c84a-4afc-baa7-4c0243f3918d"
      },
      "execution_count": null,
      "outputs": [
        {
          "output_type": "display_data",
          "data": {
            "image/png": "[encoded data removed]",
            "text/plain": [
              "<Figure size 432x288 with 1 Axes>"
            ]
          },
          "metadata": {
            "needs_background": "light"
          }
        }
      ]
    },
    {
      "cell_type": "code",
      "source": [
        "sb.violinplot(y='employee_id', x='no_of_projects', data=df);       #the vilion plot between the employee_id and no_of_projects"
      ],
      "metadata": {
        "colab": {
          "base_uri": "https://localhost:8080/",
          "height": 283
        },
        "id": "Ov1bwtlSecYN",
        "outputId": "138e9cff-748b-4e95-f117-4e35a120ea4f"
      },
      "execution_count": null,
      "outputs": [
        {
          "output_type": "display_data",
          "data": {
            "image/png": "[encoded data removed]",
            "text/plain": [
              "<Figure size 432x288 with 1 Axes>"
            ]
          },
          "metadata": {
            "needs_background": "light"
          }
        }
      ]
    },
    {
      "cell_type": "markdown",
      "source": [
        "# TRAINING AND TESTING THE DATASET"
      ],
      "metadata": {
        "id": "2WhEfghsevZe"
      }
    },
    {
      "cell_type": "code",
      "source": [
        "y = df['department_id']                            #dependent and independent variables\n",
        "X = df[['employee_id', 'phone_no','job_id', 'salary', 'no_of_projects', 'manager_id','working_hours']]"
      ],
      "metadata": {
        "id": "qh4lnzs1ecgN"
      },
      "execution_count": null,
      "outputs": []
    },
    {
      "cell_type": "code",
      "source": [
        "X_train, X_test, y_train, y_test = train_test_split(X, y, test_size=0.7, random_state=525,)   #Splitting the data into train and test set"
      ],
      "metadata": {
        "id": "N6gTeNQAe4qs"
      },
      "execution_count": null,
      "outputs": []
    },
    {
      "cell_type": "markdown",
      "source": [
        "# USING THE RANDOM FOREST CLASSIFIER"
      ],
      "metadata": {
        "id": "9kHcrOX5e_DU"
      }
    },
    {
      "cell_type": "code",
      "source": [
        "rfc  = RandomForestClassifier(n_estimators = 51,criterion=\"entropy\")            #function for the random forest classsifer."
      ],
      "metadata": {
        "id": "vlASHrsQfE99"
      },
      "execution_count": null,
      "outputs": []
    },
    {
      "cell_type": "code",
      "source": [
        "rfc.fit(X_train,y_train)                                                 #fitting the trained dataset  using the random forest classifier algorithm"
      ],
      "metadata": {
        "colab": {
          "base_uri": "https://localhost:8080/"
        },
        "id": "NmxUXS0YfFpD",
        "outputId": "b3d34bcd-9fef-4c1d-b517-5a1d6427b068"
      },
      "execution_count": null,
      "outputs": [
        {
          "output_type": "execute_result",
          "data": {
            "text/plain": [
              "RandomForestClassifier(criterion='entropy', n_estimators=51)"
            ]
          },
          "metadata": {},
          "execution_count": 22
        }
      ]
    },
    {
      "cell_type": "code",
      "source": [
        "y_pred = rfc.predict(X_test)                           #predicting the x-test using the rfc algorithm"
      ],
      "metadata": {
        "id": "xFAvzsnVfZw7"
      },
      "execution_count": null,
      "outputs": []
    },
    {
      "cell_type": "code",
      "source": [
        "y_pred                          #print the predicted data "
      ],
      "metadata": {
        "colab": {
          "base_uri": "https://localhost:8080/"
        },
        "id": "Hu20zWI-fbtc",
        "outputId": "e87756a1-75e2-4c0e-e753-fb8e1b11c1ab"
      },
      "execution_count": null,
      "outputs": [
        {
          "output_type": "execute_result",
          "data": {
            "text/plain": [
              "array([724, 856, 391, 724, 724, 724, 856, 856, 925, 856, 724, 391, 724,\n",
              "       536, 724, 724, 724, 856, 856, 856, 856, 724, 925, 856, 724, 856,\n",
              "       925, 856, 724, 391, 724, 391, 856, 925, 925])"
            ]
          },
          "metadata": {},
          "execution_count": 24
        }
      ]
    },
    {
      "cell_type": "code",
      "source": [
        "#Creating the Confusion matrix  \n",
        "from sklearn.metrics import confusion_matrix ,classification_report             # the confusion matrix is imported from sklearn.metrics library\n",
        "cm= confusion_matrix(y_test, y_pred)                                      #the confusion matrix is built in between the y_test and the predicted data \n",
        "print(cm)\n",
        "print(classification_report(y_test, y_pred)) ;                              #classification report is printed "
      ],
      "metadata": {
        "colab": {
          "base_uri": "https://localhost:8080/"
        },
        "id": "p1p3J6M4fhBy",
        "outputId": "4fa92e10-d83b-4ef5-8c9d-b9109054d5b6"
      },
      "execution_count": null,
      "outputs": [
        {
          "output_type": "stream",
          "name": "stdout",
          "text": [
            "[[0 0 4 3 0]\n",
            " [0 0 1 1 0]\n",
            " [1 1 6 5 3]\n",
            " [1 0 1 1 1]\n",
            " [2 0 1 2 1]]\n",
            "              precision    recall  f1-score   support\n",
            "\n",
            "         391       0.00      0.00      0.00         7\n",
            "         536       0.00      0.00      0.00         2\n",
            "         724       0.46      0.38      0.41        16\n",
            "         856       0.08      0.25      0.12         4\n",
            "         925       0.20      0.17      0.18         6\n",
            "\n",
            "    accuracy                           0.23        35\n",
            "   macro avg       0.15      0.16      0.14        35\n",
            "weighted avg       0.25      0.23      0.23        35\n",
            "\n"
          ]
        }
      ]
    },
    {
      "cell_type": "code",
      "source": [
        "from sklearn.metrics import mean_absolute_error               #to find the mean absolute error \n",
        "\n",
        "mean_absolute_error(y_test, y_pred)                             #the mean absolute error is found between the y_test and predicted data"
      ],
      "metadata": {
        "colab": {
          "base_uri": "https://localhost:8080/"
        },
        "id": "Dd5fTxJEfocM",
        "outputId": "f2cc407a-6601-4dbd-fbaf-a0d7b91018d4"
      },
      "execution_count": null,
      "outputs": [
        {
          "output_type": "execute_result",
          "data": {
            "text/plain": [
              "202.62857142857143"
            ]
          },
          "metadata": {},
          "execution_count": 26
        }
      ]
    },
    {
      "cell_type": "code",
      "source": [
        "pred = rfc.predict(X_test)"
      ],
      "metadata": {
        "id": "bpzMJx-LgU7B"
      },
      "execution_count": null,
      "outputs": []
    },
    {
      "cell_type": "code",
      "source": [
        "cm = confusion_matrix(y_test, pred)\n",
        "print(cm)"
      ],
      "metadata": {
        "colab": {
          "base_uri": "https://localhost:8080/"
        },
        "id": "9RERYWcQhflQ",
        "outputId": "2f9b6fa5-6f8f-4535-dc71-e648fe343a64"
      },
      "execution_count": null,
      "outputs": [
        {
          "output_type": "stream",
          "name": "stdout",
          "text": [
            "[[0 0 4 3 0]\n",
            " [0 0 1 1 0]\n",
            " [1 1 6 5 3]\n",
            " [1 0 1 1 1]\n",
            " [2 0 1 2 1]]\n"
          ]
        }
      ]
    },
    {
      "cell_type": "code",
      "source": [
        "print('Accuracy:', accuracy_score(y_test, pred))                 #the accuracy score is found between y_test and pericted data\n",
        "                                                             #the acuuracy score is for the accuracy"
      ],
      "metadata": {
        "colab": {
          "base_uri": "https://localhost:8080/"
        },
        "id": "1vlfpTNNhp9G",
        "outputId": "be4351c8-a9a3-4d61-cd93-78939445bb2c"
      },
      "execution_count": null,
      "outputs": [
        {
          "output_type": "stream",
          "name": "stdout",
          "text": [
            "Accuracy: 0.22857142857142856\n"
          ]
        }
      ]
    },
    {
      "cell_type": "code",
      "source": [
        "precision = cm[2][2]/(cm[2][0]+cm[2][2])                #the precision is calculated by the formula tp/(tp+fn)\n",
        "print('Precision:', precision);                       #where tp =no.of true postive  ; fn = no.of false negatives"
      ],
      "metadata": {
        "colab": {
          "base_uri": "https://localhost:8080/"
        },
        "id": "UCeyXLtxhqD0",
        "outputId": "8dab2253-0d1e-4fb2-b710-4685f8b3ef07"
      },
      "execution_count": null,
      "outputs": [
        {
          "output_type": "stream",
          "name": "stdout",
          "text": [
            "Precision: 0.8571428571428571\n"
          ]
        }
      ]
    },
    {
      "cell_type": "code",
      "source": [
        "recall = cm[2][2]/(cm[0][2]+cm[2][2])                     #the recall score is calculated as same as the precision\n",
        "print('Recall:', recall);  "
      ],
      "metadata": {
        "colab": {
          "base_uri": "https://localhost:8080/"
        },
        "id": "h75pXUSWhqK8",
        "outputId": "f1a7f1b0-fd36-4268-901e-e9f7ec9ca091"
      },
      "execution_count": null,
      "outputs": [
        {
          "output_type": "stream",
          "name": "stdout",
          "text": [
            "Recall: 0.6\n"
          ]
        }
      ]
    },
    {
      "cell_type": "code",
      "source": [
        "F1 = 2*(precision*recall)/(precision+recall)                      #the f1 score is calculated using the precisions and the recall scores\n",
        "print('F1:', F1)"
      ],
      "metadata": {
        "colab": {
          "base_uri": "https://localhost:8080/"
        },
        "id": "ZDm0dNYXh2-1",
        "outputId": "cb78cd1d-26b7-408d-cfff-f275f2f736d0"
      },
      "execution_count": null,
      "outputs": [
        {
          "output_type": "stream",
          "name": "stdout",
          "text": [
            "F1: 0.7058823529411764\n"
          ]
        }
      ]
    },
    {
      "cell_type": "code",
      "source": [
        "  # PLOT ROC                                        \n",
        "plt.plot([0,1],[0,1],'k--')               #  ROC curve- receiver operating characteristic curve\n",
        "                                          #  it is  showing the performance of a classification model at all classification thresholds\n",
        "                                               # it is plotted between the parameters true postive rate and false postive rate\n",
        "plt.xlim([-0.1,1.1])                      #the intervals on the x-axis\n",
        "plt.ylim([-0.1,1.1])                    #the intervals on the y-axis\n",
        "plt.ylabel('True Positive Rate (TPR) i.e. Recall')       # y-axis representation\n",
        "plt.xlabel('False Positive Rate (FPR)')             # x-axis representation\n",
        "plt.show()                   #it shows the curve for the given parameters"
      ],
      "metadata": {
        "colab": {
          "base_uri": "https://localhost:8080/",
          "height": 279
        },
        "id": "4fa2OuhOiAxS",
        "outputId": "4c93638f-7217-4307-8ad3-6d277c553f09"
      },
      "execution_count": null,
      "outputs": [
        {
          "output_type": "display_data",
          "data": {
            "image/png": "[encoded data removed]",
            "text/plain": [
              "<Figure size 432x288 with 1 Axes>"
            ]
          },
          "metadata": {
            "needs_background": "light"
          }
        }
      ]
    },
    {
      "cell_type": "markdown",
      "source": [
        "# USING THE LOGISTIC REGRESSION"
      ],
      "metadata": {
        "id": "TXstMvfOlEnF"
      }
    },
    {
      "cell_type": "code",
      "source": [
        "lr = LogisticRegression(random_state=0)         #logistic regression is the hypothesis of the regression values that limits the costfunction between 0 and 1"
      ],
      "metadata": {
        "id": "CTDkysYmlN8N"
      },
      "execution_count": null,
      "outputs": []
    },
    {
      "cell_type": "code",
      "source": [
        "lr.fit(X_train,y_train)               #fitting the data using the logistic regression algorithm"
      ],
      "metadata": {
        "id": "Asa3Y9GnlchN",
        "colab": {
          "base_uri": "https://localhost:8080/"
        },
        "outputId": "f22881b2-8cb6-4ead-d89e-9cf6373defe9"
      },
      "execution_count": null,
      "outputs": [
        {
          "output_type": "execute_result",
          "data": {
            "text/plain": [
              "LogisticRegression(random_state=0)"
            ]
          },
          "metadata": {},
          "execution_count": 35
        }
      ]
    },
    {
      "cell_type": "code",
      "source": [
        "b_pred = lr.predict(X_test)               #predicting the X-test values using the logistic regression"
      ],
      "metadata": {
        "id": "BNAlOPFplfbT"
      },
      "execution_count": null,
      "outputs": []
    },
    {
      "cell_type": "code",
      "source": [
        "b_pred                    #printing the predicted values in the form of array "
      ],
      "metadata": {
        "id": "MdJUfyDjlfh2",
        "colab": {
          "base_uri": "https://localhost:8080/"
        },
        "outputId": "8de1f1b4-bf4b-46d8-e316-254140042f59"
      },
      "execution_count": null,
      "outputs": [
        {
          "output_type": "execute_result",
          "data": {
            "text/plain": [
              "array([724, 724, 724, 724, 724, 724, 724, 724, 724, 724, 724, 724, 724,\n",
              "       724, 724, 724, 724, 724, 724, 724, 724, 724, 724, 724, 724, 724,\n",
              "       724, 724, 724, 724, 724, 724, 724, 724, 724])"
            ]
          },
          "metadata": {},
          "execution_count": 37
        }
      ]
    },
    {
      "cell_type": "code",
      "source": [
        "#Creating the Confusion matrix \n",
        "from sklearn.metrics import confusion_matrix ,classification_report                                \n",
        "print(classification_report(y_test, b_pred)) ;           #gettting the classification report \n"
      ],
      "metadata": {
        "id": "4QuJVnEUlfoA",
        "colab": {
          "base_uri": "https://localhost:8080/"
        },
        "outputId": "ee8cf5cb-4899-48ed-cb91-c58049bf85bd"
      },
      "execution_count": null,
      "outputs": [
        {
          "output_type": "stream",
          "name": "stdout",
          "text": [
            "              precision    recall  f1-score   support\n",
            "\n",
            "         391       0.00      0.00      0.00         7\n",
            "         536       0.00      0.00      0.00         2\n",
            "         724       0.46      1.00      0.63        16\n",
            "         856       0.00      0.00      0.00         4\n",
            "         925       0.00      0.00      0.00         6\n",
            "\n",
            "    accuracy                           0.46        35\n",
            "   macro avg       0.09      0.20      0.13        35\n",
            "weighted avg       0.21      0.46      0.29        35\n",
            "\n"
          ]
        },
        {
          "output_type": "stream",
          "name": "stderr",
          "text": [
            "/usr/local/lib/python3.7/dist-packages/sklearn/metrics/_classification.py:1318: UndefinedMetricWarning: Precision and F-score are ill-defined and being set to 0.0 in labels with no predicted samples. Use `zero_division` parameter to control this behavior.\n",
            "  _warn_prf(average, modifier, msg_start, len(result))\n",
            "/usr/local/lib/python3.7/dist-packages/sklearn/metrics/_classification.py:1318: UndefinedMetricWarning: Precision and F-score are ill-defined and being set to 0.0 in labels with no predicted samples. Use `zero_division` parameter to control this behavior.\n",
            "  _warn_prf(average, modifier, msg_start, len(result))\n",
            "/usr/local/lib/python3.7/dist-packages/sklearn/metrics/_classification.py:1318: UndefinedMetricWarning: Precision and F-score are ill-defined and being set to 0.0 in labels with no predicted samples. Use `zero_division` parameter to control this behavior.\n",
            "  _warn_prf(average, modifier, msg_start, len(result))\n"
          ]
        }
      ]
    },
    {
      "cell_type": "code",
      "source": [
        "from sklearn.metrics import mean_absolute_error\n",
        "mean_absolute_error(y_test, b_pred)                       #getting the meanabsolute error between the y_test and b_pred "
      ],
      "metadata": {
        "id": "AjCgosremAu7",
        "colab": {
          "base_uri": "https://localhost:8080/"
        },
        "outputId": "a182232d-afda-4b42-b348-4a313e229592"
      },
      "execution_count": null,
      "outputs": [
        {
          "output_type": "execute_result",
          "data": {
            "text/plain": [
              "126.88571428571429"
            ]
          },
          "metadata": {},
          "execution_count": 39
        }
      ]
    },
    {
      "cell_type": "code",
      "source": [
        "lr.predict_proba(X_test)                        #the predicted values of the x_test using the logistic regression"
      ],
      "metadata": {
        "id": "XmfWWO5ImA8Z",
        "colab": {
          "base_uri": "https://localhost:8080/"
        },
        "outputId": "e5bd9b1d-3542-4a7f-b239-e36c709019c7"
      },
      "execution_count": null,
      "outputs": [
        {
          "output_type": "execute_result",
          "data": {
            "text/plain": [
              "array([[0.19921894, 0.12365831, 0.35086833, 0.20767798, 0.11857644],\n",
              "       [0.20130104, 0.13345536, 0.32788206, 0.208647  , 0.12871455],\n",
              "       [0.20051346, 0.12935876, 0.33733796, 0.20832524, 0.12446458],\n",
              "       [0.19940463, 0.12441585, 0.34904456, 0.20777775, 0.1193572 ],\n",
              "       [0.19784178, 0.11850743, 0.36348532, 0.20688375, 0.11328172],\n",
              "       [0.19893945, 0.12254948, 0.35355233, 0.20752417, 0.11743458],\n",
              "       [0.20160625, 0.13522957, 0.32385379, 0.20875041, 0.13055999],\n",
              "       [0.19920411, 0.12359853, 0.35101258, 0.20766992, 0.11851486],\n",
              "       [0.20094648, 0.13153549, 0.33228638, 0.20851078, 0.12672087],\n",
              "       [0.19925931, 0.1238215 , 0.35047476, 0.20769984, 0.11874459],\n",
              "       [0.19949053, 0.12477227, 0.34818925, 0.20782322, 0.11972473],\n",
              "       [0.20090534, 0.13132132, 0.33278066, 0.208494  , 0.12649868],\n",
              "       [0.19925683, 0.12381149, 0.3504989 , 0.2076985 , 0.11873428],\n",
              "       [0.2013152 , 0.13353499, 0.3277004 , 0.2086521 , 0.12879732],\n",
              "       [0.19828811, 0.12009607, 0.35955315, 0.20715055, 0.11491212],\n",
              "       [0.19802985, 0.1191684 , 0.36184482, 0.20699716, 0.11395978],\n",
              "       [0.20084996, 0.13103555, 0.33344111, 0.20847111, 0.12620227],\n",
              "       [0.19799712, 0.11905253, 0.36213195, 0.20697753, 0.11384088],\n",
              "       [0.20087881, 0.13118402, 0.33309784, 0.20848308, 0.12635626],\n",
              "       [0.20001789, 0.12705173, 0.34276058, 0.20809182, 0.12207798],\n",
              "       [0.20051224, 0.12935288, 0.3373517 , 0.2083247 , 0.12445848],\n",
              "       [0.20143416, 0.134214  , 0.32615471, 0.20869383, 0.12950329],\n",
              "       [0.2013577 , 0.13377551, 0.32715222, 0.20866724, 0.12904734],\n",
              "       [0.20149736, 0.13458217, 0.32531908, 0.20871515, 0.12988625],\n",
              "       [0.20037877, 0.12871393, 0.33884644, 0.20826384, 0.12379702],\n",
              "       [0.1977415 , 0.11815981, 0.3643507 , 0.20682272, 0.11292527],\n",
              "       [0.20138946, 0.13395673, 0.32673967, 0.20867839, 0.12923575],\n",
              "       [0.19774549, 0.11817357, 0.3643164 , 0.20682516, 0.11293938],\n",
              "       [0.19887952, 0.12231637, 0.35411879, 0.20749065, 0.11719467],\n",
              "       [0.20025323, 0.12812528, 0.34022834, 0.2082052 , 0.12318795],\n",
              "       [0.20133738, 0.13366023, 0.32741487, 0.20866003, 0.12892749],\n",
              "       [0.20103127, 0.1319823 , 0.33125711, 0.20854476, 0.12718456],\n",
              "       [0.20020259, 0.12789104, 0.34077953, 0.20818117, 0.12294567],\n",
              "       [0.20005995, 0.12724082, 0.34231342, 0.20811239, 0.12227342],\n",
              "       [0.20142161, 0.13414152, 0.32631943, 0.20868953, 0.12942791]])"
            ]
          },
          "metadata": {},
          "execution_count": 40
        }
      ]
    },
    {
      "cell_type": "code",
      "source": [
        "pred1 = lr.predict(X_test)"
      ],
      "metadata": {
        "id": "MFSozJvcmPVs"
      },
      "execution_count": null,
      "outputs": []
    },
    {
      "cell_type": "code",
      "source": [
        "cm_using_lr = confusion_matrix(y_test, pred1)\n",
        "print(cm_using_lr)                                     #print the confusion matrix "
      ],
      "metadata": {
        "id": "1Ffgr_k8mPkV",
        "colab": {
          "base_uri": "https://localhost:8080/"
        },
        "outputId": "83184b8b-207e-46e3-c692-c117f1e36041"
      },
      "execution_count": null,
      "outputs": [
        {
          "output_type": "stream",
          "name": "stdout",
          "text": [
            "[[ 0  0  7  0  0]\n",
            " [ 0  0  2  0  0]\n",
            " [ 0  0 16  0  0]\n",
            " [ 0  0  4  0  0]\n",
            " [ 0  0  6  0  0]]\n"
          ]
        }
      ]
    },
    {
      "cell_type": "code",
      "source": [
        "print('Accuracy:', accuracy_score(y_test, pred1))                #finding the accuracy "
      ],
      "metadata": {
        "colab": {
          "base_uri": "https://localhost:8080/"
        },
        "id": "UXyG-t99o3Pn",
        "outputId": "3eec2ce6-4a1e-4a44-b3f5-eed2cc129199"
      },
      "execution_count": null,
      "outputs": [
        {
          "output_type": "stream",
          "name": "stdout",
          "text": [
            "Accuracy: 0.45714285714285713\n"
          ]
        }
      ]
    },
    {
      "cell_type": "code",
      "source": [
        "precision1 = cm[2][2]/(cm[2][0]+cm[2][2])                             #finding the precision for the confusion matrix\n",
        "print('Precision:', precision1);"
      ],
      "metadata": {
        "colab": {
          "base_uri": "https://localhost:8080/"
        },
        "id": "MnagOGGxo3Zn",
        "outputId": "5038b6f8-d003-4ab9-98c1-f1eefbfaee48"
      },
      "execution_count": null,
      "outputs": [
        {
          "output_type": "stream",
          "name": "stdout",
          "text": [
            "Precision: 0.8571428571428571\n"
          ]
        }
      ]
    },
    {
      "cell_type": "code",
      "source": [
        "recall1 = cm[2][2]/(cm[0][2]+cm[2][2])\n",
        "print('Recall:', recall1);                            #the recall_score  is calculated for the confusion matrix"
      ],
      "metadata": {
        "colab": {
          "base_uri": "https://localhost:8080/"
        },
        "id": "IgCB5nqxpRRd",
        "outputId": "3cc1c89d-9959-4ee4-b1b6-afb2cbbbe19e"
      },
      "execution_count": null,
      "outputs": [
        {
          "output_type": "stream",
          "name": "stdout",
          "text": [
            "Recall: 0.6\n"
          ]
        }
      ]
    },
    {
      "cell_type": "code",
      "source": [
        "F1_1 = 2*(precision1*recall1)/(precision1+recall1)      #The f1 score is calculated using the above presision and recall values\n",
        "print('F1:', F1_1)"
      ],
      "metadata": {
        "colab": {
          "base_uri": "https://localhost:8080/"
        },
        "id": "tSqeXlM8pRhd",
        "outputId": "720bc250-d8b7-41a3-ff5d-fe4973c9021d"
      },
      "execution_count": null,
      "outputs": [
        {
          "output_type": "stream",
          "name": "stdout",
          "text": [
            "F1: 0.7058823529411764\n"
          ]
        }
      ]
    },
    {
      "cell_type": "code",
      "source": [
        "  # PLOT ROC\n",
        "plt.plot([0,2],[0,2],'k--')                     #the roc curve is plotted between the parameeters postive rate and the false postive rate \n",
        "plt.xlim([-0.2,5])\n",
        "plt.ylim([-0.2,4])\n",
        "plt.ylabel('True Positive Rate (TPR) i.e. Recall')\n",
        "plt.xlabel('False Positive Rate (FPR)')\n",
        "plt.show()                           #printes the plotted curve"
      ],
      "metadata": {
        "colab": {
          "base_uri": "https://localhost:8080/",
          "height": 283
        },
        "id": "Otes23S4pRrT",
        "outputId": "8ffca5b8-8335-4bcb-dabe-c785e3f67d11"
      },
      "execution_count": null,
      "outputs": [
        {
          "output_type": "display_data",
          "data": {
            "image/png": "[encoded data removed]",
            "text/plain": [
              "<Figure size 432x288 with 1 Axes>"
            ]
          },
          "metadata": {
            "needs_background": "light"
          }
        }
      ]
    },
    {
      "cell_type": "markdown",
      "source": [
        "# USING THE GRID SEARCH CV"
      ],
      "metadata": {
        "id": "RGymMwR-sSu0"
      }
    },
    {
      "cell_type": "code",
      "source": [
        "from sklearn.preprocessing import OneHotEncoder ,StandardScaler         #the onehot encoder is used to show the data more expressive   \n",
        "ohe = OneHotEncoder(sparse = False)"
      ],
      "metadata": {
        "id": "XHZDGmkzsXVq"
      },
      "execution_count": null,
      "outputs": []
    },
    {
      "cell_type": "markdown",
      "source": [
        "The StandardScaler removes the mean and scales each attribute to unit variance. This operation is performed feature-wise in an independent way."
      ],
      "metadata": {
        "id": "9Z2FSfbuaI2X"
      }
    },
    {
      "cell_type": "code",
      "source": [
        "X_train_cat = ohe.fit_transform(X_train[[\"employee_id\",\"salary\"]])              #fitting and transforming the x-train including the employee_id and salary"
      ],
      "metadata": {
        "id": "k2xlLJpOsXZJ"
      },
      "execution_count": null,
      "outputs": []
    },
    {
      "cell_type": "code",
      "source": [
        "X_train_cat[:11]                                          #printing the catogorial values till the index 11"
      ],
      "metadata": {
        "id": "S1eLRtd0sXfS",
        "colab": {
          "base_uri": "https://localhost:8080/"
        },
        "outputId": "4abf3b7f-2d01-4904-8c87-dfabaf3f4338"
      },
      "execution_count": null,
      "outputs": [
        {
          "output_type": "execute_result",
          "data": {
            "text/plain": [
              "array([[0., 0., 0., 1., 0., 0., 0., 0., 0., 0., 0., 0., 0., 0., 0., 0.,\n",
              "        0., 0., 0., 0., 0., 0., 0., 0., 0., 0., 0., 1., 0., 0.],\n",
              "       [0., 0., 0., 0., 0., 0., 1., 0., 0., 0., 0., 0., 0., 0., 0., 0.,\n",
              "        0., 0., 0., 0., 0., 1., 0., 0., 0., 0., 0., 0., 0., 0.],\n",
              "       [0., 0., 0., 0., 0., 0., 0., 0., 1., 0., 0., 0., 0., 0., 0., 0.,\n",
              "        0., 0., 1., 0., 0., 0., 0., 0., 0., 0., 0., 0., 0., 0.],\n",
              "       [0., 0., 0., 0., 0., 0., 0., 0., 0., 0., 0., 0., 0., 0., 1., 0.,\n",
              "        0., 0., 0., 0., 0., 0., 0., 1., 0., 0., 0., 0., 0., 0.],\n",
              "       [0., 0., 1., 0., 0., 0., 0., 0., 0., 0., 0., 0., 0., 0., 0., 0.,\n",
              "        0., 0., 0., 0., 0., 0., 0., 0., 0., 0., 0., 0., 1., 0.],\n",
              "       [0., 0., 0., 0., 0., 0., 0., 1., 0., 0., 0., 0., 0., 0., 0., 0.,\n",
              "        1., 0., 0., 0., 0., 0., 0., 0., 0., 0., 0., 0., 0., 0.],\n",
              "       [0., 0., 0., 0., 0., 0., 0., 0., 0., 0., 0., 1., 0., 0., 0., 0.,\n",
              "        0., 0., 0., 0., 0., 0., 0., 0., 0., 1., 0., 0., 0., 0.],\n",
              "       [0., 0., 0., 0., 0., 0., 0., 0., 0., 0., 0., 0., 0., 1., 0., 0.,\n",
              "        0., 0., 0., 0., 0., 0., 0., 0., 1., 0., 0., 0., 0., 0.],\n",
              "       [0., 0., 0., 0., 0., 0., 0., 0., 0., 0., 1., 0., 0., 0., 0., 0.,\n",
              "        0., 0., 0., 0., 0., 0., 0., 0., 0., 0., 0., 0., 0., 1.],\n",
              "       [0., 0., 0., 0., 0., 1., 0., 0., 0., 0., 0., 0., 0., 0., 0., 0.,\n",
              "        0., 0., 0., 0., 0., 0., 1., 0., 0., 0., 0., 0., 0., 0.],\n",
              "       [0., 1., 0., 0., 0., 0., 0., 0., 0., 0., 0., 0., 0., 0., 0., 0.,\n",
              "        0., 0., 0., 1., 0., 0., 0., 0., 0., 0., 0., 0., 0., 0.]])"
            ]
          },
          "metadata": {},
          "execution_count": 50
        }
      ]
    },
    {
      "cell_type": "code",
      "source": [
        "ss = StandardScaler()                  #calling the standard scalar function"
      ],
      "metadata": {
        "id": "pQ8_sikrsXh9"
      },
      "execution_count": null,
      "outputs": []
    },
    {
      "cell_type": "code",
      "source": [
        "num_col = ['employee_id', 'phone_no', 'job_id', 'salary', 'no_of_projects', 'manager_id','working_hours']        #assigning the numerical columns"
      ],
      "metadata": {
        "id": "aXfUfbUasXkY"
      },
      "execution_count": null,
      "outputs": []
    },
    {
      "cell_type": "code",
      "source": [
        "X_train_num = ss.fit_transform(X_train[num_col])         #fitting the satndard scalar along with the numerical columns"
      ],
      "metadata": {
        "id": "XRXO3cpzsXna"
      },
      "execution_count": null,
      "outputs": []
    },
    {
      "cell_type": "code",
      "source": [
        "X_train_num[:5]"
      ],
      "metadata": {
        "id": "EETsKATzsXqR",
        "colab": {
          "base_uri": "https://localhost:8080/"
        },
        "outputId": "89f10b14-23a0-477d-b8a7-59edd0bf599b"
      },
      "execution_count": null,
      "outputs": [
        {
          "output_type": "execute_result",
          "data": {
            "text/plain": [
              "array([[-0.77672731,  1.68537532, -1.42516248,  0.70167274,  0.25628821,\n",
              "         0.04560952, -1.16516275],\n",
              "       [-0.20937399, -1.34838549, -1.42516248, -0.32430696, -1.94046787,\n",
              "         1.38957478, -1.16516275],\n",
              "       [-0.20130735, -0.73876287,  0.86527722, -0.93245327,  0.80547723,\n",
              "         1.38957478,  1.4050492 ],\n",
              "       [ 3.27810115, -0.80591138,  0.10179732,  0.23009728, -1.39127885,\n",
              "        -1.40674004,  0.63398561],\n",
              "       [-0.78479394,  0.04318995,  0.86527722,  1.76914492, -0.29290081,\n",
              "         0.6425162 , -1.16516275]])"
            ]
          },
          "metadata": {},
          "execution_count": 54
        }
      ]
    },
    {
      "cell_type": "code",
      "source": [
        "import numpy as np       #used to working in the domain of linear algebra ,fourier transform and matrices"
      ],
      "metadata": {
        "id": "He9vqXh02Xut"
      },
      "execution_count": null,
      "outputs": []
    },
    {
      "cell_type": "code",
      "source": [
        "X_train_out = pd.DataFrame(np.concatenate([X_train_cat,X_train_num],axis =1))   #used to concatenate the X-train_cat and X-train_num and  assign into a new variable"
      ],
      "metadata": {
        "id": "Z_SDm5k_sXtC"
      },
      "execution_count": null,
      "outputs": []
    },
    {
      "cell_type": "code",
      "source": [
        "X_train_out.head()         #print the dataframe head where head will print the starting rows in the dataset"
      ],
      "metadata": {
        "colab": {
          "base_uri": "https://localhost:8080/",
          "height": 270
        },
        "id": "cTKtdY1k23jj",
        "outputId": "13c1e1b6-60b9-47e2-8632-a70111170b7c"
      },
      "execution_count": null,
      "outputs": [
        {
          "output_type": "execute_result",
          "data": {
            "text/html": [
              "\n",
              "  <div id=\"df-52b70897-09dc-49e0-accd-955f731cb472\">\n",
              "    <div class=\"colab-df-container\">\n",
              "      <div>\n",
              "<style scoped>\n",
              "    .dataframe tbody tr th:only-of-type {\n",
              "        vertical-align: middle;\n",
              "    }\n",
              "\n",
              "    .dataframe tbody tr th {\n",
              "        vertical-align: top;\n",
              "    }\n",
              "\n",
              "    .dataframe thead th {\n",
              "        text-align: right;\n",
              "    }\n",
              "</style>\n",
              "<table border=\"1\" class=\"dataframe\">\n",
              "  <thead>\n",
              "    <tr style=\"text-align: right;\">\n",
              "      <th></th>\n",
              "      <th>0</th>\n",
              "      <th>1</th>\n",
              "      <th>2</th>\n",
              "      <th>3</th>\n",
              "      <th>4</th>\n",
              "      <th>5</th>\n",
              "      <th>6</th>\n",
              "      <th>7</th>\n",
              "      <th>8</th>\n",
              "      <th>9</th>\n",
              "      <th>10</th>\n",
              "      <th>11</th>\n",
              "      <th>12</th>\n",
              "      <th>13</th>\n",
              "      <th>14</th>\n",
              "      <th>15</th>\n",
              "      <th>16</th>\n",
              "      <th>17</th>\n",
              "      <th>18</th>\n",
              "      <th>19</th>\n",
              "      <th>20</th>\n",
              "      <th>21</th>\n",
              "      <th>22</th>\n",
              "      <th>23</th>\n",
              "      <th>24</th>\n",
              "      <th>25</th>\n",
              "      <th>26</th>\n",
              "      <th>27</th>\n",
              "      <th>28</th>\n",
              "      <th>29</th>\n",
              "      <th>30</th>\n",
              "      <th>31</th>\n",
              "      <th>32</th>\n",
              "      <th>33</th>\n",
              "      <th>34</th>\n",
              "      <th>35</th>\n",
              "      <th>36</th>\n",
              "    </tr>\n",
              "  </thead>\n",
              "  <tbody>\n",
              "    <tr>\n",
              "      <th>0</th>\n",
              "      <td>0.0</td>\n",
              "      <td>0.0</td>\n",
              "      <td>0.0</td>\n",
              "      <td>1.0</td>\n",
              "      <td>0.0</td>\n",
              "      <td>0.0</td>\n",
              "      <td>0.0</td>\n",
              "      <td>0.0</td>\n",
              "      <td>0.0</td>\n",
              "      <td>0.0</td>\n",
              "      <td>0.0</td>\n",
              "      <td>0.0</td>\n",
              "      <td>0.0</td>\n",
              "      <td>0.0</td>\n",
              "      <td>0.0</td>\n",
              "      <td>0.0</td>\n",
              "      <td>0.0</td>\n",
              "      <td>0.0</td>\n",
              "      <td>0.0</td>\n",
              "      <td>0.0</td>\n",
              "      <td>0.0</td>\n",
              "      <td>0.0</td>\n",
              "      <td>0.0</td>\n",
              "      <td>0.0</td>\n",
              "      <td>0.0</td>\n",
              "      <td>0.0</td>\n",
              "      <td>0.0</td>\n",
              "      <td>1.0</td>\n",
              "      <td>0.0</td>\n",
              "      <td>0.0</td>\n",
              "      <td>-0.776727</td>\n",
              "      <td>1.685375</td>\n",
              "      <td>-1.425162</td>\n",
              "      <td>0.701673</td>\n",
              "      <td>0.256288</td>\n",
              "      <td>0.045610</td>\n",
              "      <td>-1.165163</td>\n",
              "    </tr>\n",
              "    <tr>\n",
              "      <th>1</th>\n",
              "      <td>0.0</td>\n",
              "      <td>0.0</td>\n",
              "      <td>0.0</td>\n",
              "      <td>0.0</td>\n",
              "      <td>0.0</td>\n",
              "      <td>0.0</td>\n",
              "      <td>1.0</td>\n",
              "      <td>0.0</td>\n",
              "      <td>0.0</td>\n",
              "      <td>0.0</td>\n",
              "      <td>0.0</td>\n",
              "      <td>0.0</td>\n",
              "      <td>0.0</td>\n",
              "      <td>0.0</td>\n",
              "      <td>0.0</td>\n",
              "      <td>0.0</td>\n",
              "      <td>0.0</td>\n",
              "      <td>0.0</td>\n",
              "      <td>0.0</td>\n",
              "      <td>0.0</td>\n",
              "      <td>0.0</td>\n",
              "      <td>1.0</td>\n",
              "      <td>0.0</td>\n",
              "      <td>0.0</td>\n",
              "      <td>0.0</td>\n",
              "      <td>0.0</td>\n",
              "      <td>0.0</td>\n",
              "      <td>0.0</td>\n",
              "      <td>0.0</td>\n",
              "      <td>0.0</td>\n",
              "      <td>-0.209374</td>\n",
              "      <td>-1.348385</td>\n",
              "      <td>-1.425162</td>\n",
              "      <td>-0.324307</td>\n",
              "      <td>-1.940468</td>\n",
              "      <td>1.389575</td>\n",
              "      <td>-1.165163</td>\n",
              "    </tr>\n",
              "    <tr>\n",
              "      <th>2</th>\n",
              "      <td>0.0</td>\n",
              "      <td>0.0</td>\n",
              "      <td>0.0</td>\n",
              "      <td>0.0</td>\n",
              "      <td>0.0</td>\n",
              "      <td>0.0</td>\n",
              "      <td>0.0</td>\n",
              "      <td>0.0</td>\n",
              "      <td>1.0</td>\n",
              "      <td>0.0</td>\n",
              "      <td>0.0</td>\n",
              "      <td>0.0</td>\n",
              "      <td>0.0</td>\n",
              "      <td>0.0</td>\n",
              "      <td>0.0</td>\n",
              "      <td>0.0</td>\n",
              "      <td>0.0</td>\n",
              "      <td>0.0</td>\n",
              "      <td>1.0</td>\n",
              "      <td>0.0</td>\n",
              "      <td>0.0</td>\n",
              "      <td>0.0</td>\n",
              "      <td>0.0</td>\n",
              "      <td>0.0</td>\n",
              "      <td>0.0</td>\n",
              "      <td>0.0</td>\n",
              "      <td>0.0</td>\n",
              "      <td>0.0</td>\n",
              "      <td>0.0</td>\n",
              "      <td>0.0</td>\n",
              "      <td>-0.201307</td>\n",
              "      <td>-0.738763</td>\n",
              "      <td>0.865277</td>\n",
              "      <td>-0.932453</td>\n",
              "      <td>0.805477</td>\n",
              "      <td>1.389575</td>\n",
              "      <td>1.405049</td>\n",
              "    </tr>\n",
              "    <tr>\n",
              "      <th>3</th>\n",
              "      <td>0.0</td>\n",
              "      <td>0.0</td>\n",
              "      <td>0.0</td>\n",
              "      <td>0.0</td>\n",
              "      <td>0.0</td>\n",
              "      <td>0.0</td>\n",
              "      <td>0.0</td>\n",
              "      <td>0.0</td>\n",
              "      <td>0.0</td>\n",
              "      <td>0.0</td>\n",
              "      <td>0.0</td>\n",
              "      <td>0.0</td>\n",
              "      <td>0.0</td>\n",
              "      <td>0.0</td>\n",
              "      <td>1.0</td>\n",
              "      <td>0.0</td>\n",
              "      <td>0.0</td>\n",
              "      <td>0.0</td>\n",
              "      <td>0.0</td>\n",
              "      <td>0.0</td>\n",
              "      <td>0.0</td>\n",
              "      <td>0.0</td>\n",
              "      <td>0.0</td>\n",
              "      <td>1.0</td>\n",
              "      <td>0.0</td>\n",
              "      <td>0.0</td>\n",
              "      <td>0.0</td>\n",
              "      <td>0.0</td>\n",
              "      <td>0.0</td>\n",
              "      <td>0.0</td>\n",
              "      <td>3.278101</td>\n",
              "      <td>-0.805911</td>\n",
              "      <td>0.101797</td>\n",
              "      <td>0.230097</td>\n",
              "      <td>-1.391279</td>\n",
              "      <td>-1.406740</td>\n",
              "      <td>0.633986</td>\n",
              "    </tr>\n",
              "    <tr>\n",
              "      <th>4</th>\n",
              "      <td>0.0</td>\n",
              "      <td>0.0</td>\n",
              "      <td>1.0</td>\n",
              "      <td>0.0</td>\n",
              "      <td>0.0</td>\n",
              "      <td>0.0</td>\n",
              "      <td>0.0</td>\n",
              "      <td>0.0</td>\n",
              "      <td>0.0</td>\n",
              "      <td>0.0</td>\n",
              "      <td>0.0</td>\n",
              "      <td>0.0</td>\n",
              "      <td>0.0</td>\n",
              "      <td>0.0</td>\n",
              "      <td>0.0</td>\n",
              "      <td>0.0</td>\n",
              "      <td>0.0</td>\n",
              "      <td>0.0</td>\n",
              "      <td>0.0</td>\n",
              "      <td>0.0</td>\n",
              "      <td>0.0</td>\n",
              "      <td>0.0</td>\n",
              "      <td>0.0</td>\n",
              "      <td>0.0</td>\n",
              "      <td>0.0</td>\n",
              "      <td>0.0</td>\n",
              "      <td>0.0</td>\n",
              "      <td>0.0</td>\n",
              "      <td>1.0</td>\n",
              "      <td>0.0</td>\n",
              "      <td>-0.784794</td>\n",
              "      <td>0.043190</td>\n",
              "      <td>0.865277</td>\n",
              "      <td>1.769145</td>\n",
              "      <td>-0.292901</td>\n",
              "      <td>0.642516</td>\n",
              "      <td>-1.165163</td>\n",
              "    </tr>\n",
              "  </tbody>\n",
              "</table>\n",
              "</div>\n",
              "      <button class=\"colab-df-convert\" onclick=\"convertToInteractive('df-52b70897-09dc-49e0-accd-955f731cb472')\"\n",
              "              title=\"Convert this dataframe to an interactive table.\"\n",
              "              style=\"display:none;\">\n",
              "        \n",
              "  <svg xmlns=\"http://www.w3.org/2000/svg\" height=\"24px\"viewBox=\"0 0 24 24\"\n",
              "       width=\"24px\">\n",
              "    <path d=\"M0 0h24v24H0V0z\" fill=\"none\"/>\n",
              "    <path d=\"M18.56 5.44l.94 2.06.94-2.06 2.06-.94-2.06-.94-.94-2.06-.94 2.06-2.06.94zm-11 1L8.5 8.5l.94-2.06 2.06-.94-2.06-.94L8.5 2.5l-.94 2.06-2.06.94zm10 10l.94 2.06.94-2.06 2.06-.94-2.06-.94-.94-2.06-.94 2.06-2.06.94z\"/><path d=\"M17.41 7.96l-1.37-1.37c-.4-.4-.92-.59-1.43-.59-.52 0-1.04.2-1.43.59L10.3 9.45l-7.72 7.72c-.78.78-.78 2.05 0 2.83L4 21.41c.39.39.9.59 1.41.59.51 0 1.02-.2 1.41-.59l7.78-7.78 2.81-2.81c.8-.78.8-2.07 0-2.86zM5.41 20L4 18.59l7.72-7.72 1.47 1.35L5.41 20z\"/>\n",
              "  </svg>\n",
              "      </button>\n",
              "      \n",
              "  <style>\n",
              "    .colab-df-container {\n",
              "      display:flex;\n",
              "      flex-wrap:wrap;\n",
              "      gap: 12px;\n",
              "    }\n",
              "\n",
              "    .colab-df-convert {\n",
              "      background-color: #E8F0FE;\n",
              "      border: none;\n",
              "      border-radius: 50%;\n",
              "      cursor: pointer;\n",
              "      display: none;\n",
              "      fill: #1967D2;\n",
              "      height: 32px;\n",
              "      padding: 0 0 0 0;\n",
              "      width: 32px;\n",
              "    }\n",
              "\n",
              "    .colab-df-convert:hover {\n",
              "      background-color: #E2EBFA;\n",
              "      box-shadow: 0px 1px 2px rgba(60, 64, 67, 0.3), 0px 1px 3px 1px rgba(60, 64, 67, 0.15);\n",
              "      fill: #174EA6;\n",
              "    }\n",
              "\n",
              "    [theme=dark] .colab-df-convert {\n",
              "      background-color: #3B4455;\n",
              "      fill: #D2E3FC;\n",
              "    }\n",
              "\n",
              "    [theme=dark] .colab-df-convert:hover {\n",
              "      background-color: #434B5C;\n",
              "      box-shadow: 0px 1px 3px 1px rgba(0, 0, 0, 0.15);\n",
              "      filter: drop-shadow(0px 1px 2px rgba(0, 0, 0, 0.3));\n",
              "      fill: #FFFFFF;\n",
              "    }\n",
              "  </style>\n",
              "\n",
              "      <script>\n",
              "        const buttonEl =\n",
              "          document.querySelector('#df-52b70897-09dc-49e0-accd-955f731cb472 button.colab-df-convert');\n",
              "        buttonEl.style.display =\n",
              "          google.colab.kernel.accessAllowed ? 'block' : 'none';\n",
              "\n",
              "        async function convertToInteractive(key) {\n",
              "          const element = document.querySelector('#df-52b70897-09dc-49e0-accd-955f731cb472');\n",
              "          const dataTable =\n",
              "            await google.colab.kernel.invokeFunction('convertToInteractive',\n",
              "                                                     [key], {});\n",
              "          if (!dataTable) return;\n",
              "\n",
              "          const docLinkHtml = 'Like what you see? Visit the ' +\n",
              "            '<a target=\"_blank\" href=https://colab.research.google.com/notebooks/data_table.ipynb>data table notebook</a>'\n",
              "            + ' to learn more about interactive tables.';\n",
              "          element.innerHTML = '';\n",
              "          dataTable['output_type'] = 'display_data';\n",
              "          await google.colab.output.renderOutput(dataTable, element);\n",
              "          const docLink = document.createElement('div');\n",
              "          docLink.innerHTML = docLinkHtml;\n",
              "          element.appendChild(docLink);\n",
              "        }\n",
              "      </script>\n",
              "    </div>\n",
              "  </div>\n",
              "  "
            ],
            "text/plain": [
              "    0    1    2    3    4   ...        32        33        34        35        36\n",
              "0  0.0  0.0  0.0  1.0  0.0  ... -1.425162  0.701673  0.256288  0.045610 -1.165163\n",
              "1  0.0  0.0  0.0  0.0  0.0  ... -1.425162 -0.324307 -1.940468  1.389575 -1.165163\n",
              "2  0.0  0.0  0.0  0.0  0.0  ...  0.865277 -0.932453  0.805477  1.389575  1.405049\n",
              "3  0.0  0.0  0.0  0.0  0.0  ...  0.101797  0.230097 -1.391279 -1.406740  0.633986\n",
              "4  0.0  0.0  1.0  0.0  0.0  ...  0.865277  1.769145 -0.292901  0.642516 -1.165163\n",
              "\n",
              "[5 rows x 37 columns]"
            ]
          },
          "metadata": {},
          "execution_count": 57
        }
      ]
    },
    {
      "cell_type": "code",
      "source": [
        "X_test_cat = ohe.transform(X_train[[\"employee_id\",\"salary\"]])  #transform the xtrain by including the employee_id ,salary"
      ],
      "metadata": {
        "id": "iPngcxfc23u6"
      },
      "execution_count": null,
      "outputs": []
    },
    {
      "cell_type": "code",
      "source": [
        "X_test_num = ss.transform(X_train[num_col])       #transform the numbercolumns into the standard scalar"
      ],
      "metadata": {
        "id": "JhMp0xR73lEB"
      },
      "execution_count": null,
      "outputs": []
    },
    {
      "cell_type": "code",
      "source": [
        "X_test_out = pd.DataFrame(np.concatenate([X_test_cat,X_test_num],axis =1))       #concatenate  the x_test_cat,x_test_num and make a dataframe and assign into new variable"
      ],
      "metadata": {
        "id": "fw11Pk4f3lHM"
      },
      "execution_count": null,
      "outputs": []
    },
    {
      "cell_type": "code",
      "source": [
        "X_test_out.head()         #print the head of the x_test_out dataframe"
      ],
      "metadata": {
        "colab": {
          "base_uri": "https://localhost:8080/",
          "height": 270
        },
        "id": "IFombtIk232P",
        "outputId": "d73787a3-76aa-4799-820d-577e596241d7"
      },
      "execution_count": null,
      "outputs": [
        {
          "output_type": "execute_result",
          "data": {
            "text/html": [
              "\n",
              "  <div id=\"df-9b58513f-e7f7-4ad3-9359-9cb9c4a3b045\">\n",
              "    <div class=\"colab-df-container\">\n",
              "      <div>\n",
              "<style scoped>\n",
              "    .dataframe tbody tr th:only-of-type {\n",
              "        vertical-align: middle;\n",
              "    }\n",
              "\n",
              "    .dataframe tbody tr th {\n",
              "        vertical-align: top;\n",
              "    }\n",
              "\n",
              "    .dataframe thead th {\n",
              "        text-align: right;\n",
              "    }\n",
              "</style>\n",
              "<table border=\"1\" class=\"dataframe\">\n",
              "  <thead>\n",
              "    <tr style=\"text-align: right;\">\n",
              "      <th></th>\n",
              "      <th>0</th>\n",
              "      <th>1</th>\n",
              "      <th>2</th>\n",
              "      <th>3</th>\n",
              "      <th>4</th>\n",
              "      <th>5</th>\n",
              "      <th>6</th>\n",
              "      <th>7</th>\n",
              "      <th>8</th>\n",
              "      <th>9</th>\n",
              "      <th>10</th>\n",
              "      <th>11</th>\n",
              "      <th>12</th>\n",
              "      <th>13</th>\n",
              "      <th>14</th>\n",
              "      <th>15</th>\n",
              "      <th>16</th>\n",
              "      <th>17</th>\n",
              "      <th>18</th>\n",
              "      <th>19</th>\n",
              "      <th>20</th>\n",
              "      <th>21</th>\n",
              "      <th>22</th>\n",
              "      <th>23</th>\n",
              "      <th>24</th>\n",
              "      <th>25</th>\n",
              "      <th>26</th>\n",
              "      <th>27</th>\n",
              "      <th>28</th>\n",
              "      <th>29</th>\n",
              "      <th>30</th>\n",
              "      <th>31</th>\n",
              "      <th>32</th>\n",
              "      <th>33</th>\n",
              "      <th>34</th>\n",
              "      <th>35</th>\n",
              "      <th>36</th>\n",
              "    </tr>\n",
              "  </thead>\n",
              "  <tbody>\n",
              "    <tr>\n",
              "      <th>0</th>\n",
              "      <td>0.0</td>\n",
              "      <td>0.0</td>\n",
              "      <td>0.0</td>\n",
              "      <td>1.0</td>\n",
              "      <td>0.0</td>\n",
              "      <td>0.0</td>\n",
              "      <td>0.0</td>\n",
              "      <td>0.0</td>\n",
              "      <td>0.0</td>\n",
              "      <td>0.0</td>\n",
              "      <td>0.0</td>\n",
              "      <td>0.0</td>\n",
              "      <td>0.0</td>\n",
              "      <td>0.0</td>\n",
              "      <td>0.0</td>\n",
              "      <td>0.0</td>\n",
              "      <td>0.0</td>\n",
              "      <td>0.0</td>\n",
              "      <td>0.0</td>\n",
              "      <td>0.0</td>\n",
              "      <td>0.0</td>\n",
              "      <td>0.0</td>\n",
              "      <td>0.0</td>\n",
              "      <td>0.0</td>\n",
              "      <td>0.0</td>\n",
              "      <td>0.0</td>\n",
              "      <td>0.0</td>\n",
              "      <td>1.0</td>\n",
              "      <td>0.0</td>\n",
              "      <td>0.0</td>\n",
              "      <td>-0.776727</td>\n",
              "      <td>1.685375</td>\n",
              "      <td>-1.425162</td>\n",
              "      <td>0.701673</td>\n",
              "      <td>0.256288</td>\n",
              "      <td>0.045610</td>\n",
              "      <td>-1.165163</td>\n",
              "    </tr>\n",
              "    <tr>\n",
              "      <th>1</th>\n",
              "      <td>0.0</td>\n",
              "      <td>0.0</td>\n",
              "      <td>0.0</td>\n",
              "      <td>0.0</td>\n",
              "      <td>0.0</td>\n",
              "      <td>0.0</td>\n",
              "      <td>1.0</td>\n",
              "      <td>0.0</td>\n",
              "      <td>0.0</td>\n",
              "      <td>0.0</td>\n",
              "      <td>0.0</td>\n",
              "      <td>0.0</td>\n",
              "      <td>0.0</td>\n",
              "      <td>0.0</td>\n",
              "      <td>0.0</td>\n",
              "      <td>0.0</td>\n",
              "      <td>0.0</td>\n",
              "      <td>0.0</td>\n",
              "      <td>0.0</td>\n",
              "      <td>0.0</td>\n",
              "      <td>0.0</td>\n",
              "      <td>1.0</td>\n",
              "      <td>0.0</td>\n",
              "      <td>0.0</td>\n",
              "      <td>0.0</td>\n",
              "      <td>0.0</td>\n",
              "      <td>0.0</td>\n",
              "      <td>0.0</td>\n",
              "      <td>0.0</td>\n",
              "      <td>0.0</td>\n",
              "      <td>-0.209374</td>\n",
              "      <td>-1.348385</td>\n",
              "      <td>-1.425162</td>\n",
              "      <td>-0.324307</td>\n",
              "      <td>-1.940468</td>\n",
              "      <td>1.389575</td>\n",
              "      <td>-1.165163</td>\n",
              "    </tr>\n",
              "    <tr>\n",
              "      <th>2</th>\n",
              "      <td>0.0</td>\n",
              "      <td>0.0</td>\n",
              "      <td>0.0</td>\n",
              "      <td>0.0</td>\n",
              "      <td>0.0</td>\n",
              "      <td>0.0</td>\n",
              "      <td>0.0</td>\n",
              "      <td>0.0</td>\n",
              "      <td>1.0</td>\n",
              "      <td>0.0</td>\n",
              "      <td>0.0</td>\n",
              "      <td>0.0</td>\n",
              "      <td>0.0</td>\n",
              "      <td>0.0</td>\n",
              "      <td>0.0</td>\n",
              "      <td>0.0</td>\n",
              "      <td>0.0</td>\n",
              "      <td>0.0</td>\n",
              "      <td>1.0</td>\n",
              "      <td>0.0</td>\n",
              "      <td>0.0</td>\n",
              "      <td>0.0</td>\n",
              "      <td>0.0</td>\n",
              "      <td>0.0</td>\n",
              "      <td>0.0</td>\n",
              "      <td>0.0</td>\n",
              "      <td>0.0</td>\n",
              "      <td>0.0</td>\n",
              "      <td>0.0</td>\n",
              "      <td>0.0</td>\n",
              "      <td>-0.201307</td>\n",
              "      <td>-0.738763</td>\n",
              "      <td>0.865277</td>\n",
              "      <td>-0.932453</td>\n",
              "      <td>0.805477</td>\n",
              "      <td>1.389575</td>\n",
              "      <td>1.405049</td>\n",
              "    </tr>\n",
              "    <tr>\n",
              "      <th>3</th>\n",
              "      <td>0.0</td>\n",
              "      <td>0.0</td>\n",
              "      <td>0.0</td>\n",
              "      <td>0.0</td>\n",
              "      <td>0.0</td>\n",
              "      <td>0.0</td>\n",
              "      <td>0.0</td>\n",
              "      <td>0.0</td>\n",
              "      <td>0.0</td>\n",
              "      <td>0.0</td>\n",
              "      <td>0.0</td>\n",
              "      <td>0.0</td>\n",
              "      <td>0.0</td>\n",
              "      <td>0.0</td>\n",
              "      <td>1.0</td>\n",
              "      <td>0.0</td>\n",
              "      <td>0.0</td>\n",
              "      <td>0.0</td>\n",
              "      <td>0.0</td>\n",
              "      <td>0.0</td>\n",
              "      <td>0.0</td>\n",
              "      <td>0.0</td>\n",
              "      <td>0.0</td>\n",
              "      <td>1.0</td>\n",
              "      <td>0.0</td>\n",
              "      <td>0.0</td>\n",
              "      <td>0.0</td>\n",
              "      <td>0.0</td>\n",
              "      <td>0.0</td>\n",
              "      <td>0.0</td>\n",
              "      <td>3.278101</td>\n",
              "      <td>-0.805911</td>\n",
              "      <td>0.101797</td>\n",
              "      <td>0.230097</td>\n",
              "      <td>-1.391279</td>\n",
              "      <td>-1.406740</td>\n",
              "      <td>0.633986</td>\n",
              "    </tr>\n",
              "    <tr>\n",
              "      <th>4</th>\n",
              "      <td>0.0</td>\n",
              "      <td>0.0</td>\n",
              "      <td>1.0</td>\n",
              "      <td>0.0</td>\n",
              "      <td>0.0</td>\n",
              "      <td>0.0</td>\n",
              "      <td>0.0</td>\n",
              "      <td>0.0</td>\n",
              "      <td>0.0</td>\n",
              "      <td>0.0</td>\n",
              "      <td>0.0</td>\n",
              "      <td>0.0</td>\n",
              "      <td>0.0</td>\n",
              "      <td>0.0</td>\n",
              "      <td>0.0</td>\n",
              "      <td>0.0</td>\n",
              "      <td>0.0</td>\n",
              "      <td>0.0</td>\n",
              "      <td>0.0</td>\n",
              "      <td>0.0</td>\n",
              "      <td>0.0</td>\n",
              "      <td>0.0</td>\n",
              "      <td>0.0</td>\n",
              "      <td>0.0</td>\n",
              "      <td>0.0</td>\n",
              "      <td>0.0</td>\n",
              "      <td>0.0</td>\n",
              "      <td>0.0</td>\n",
              "      <td>1.0</td>\n",
              "      <td>0.0</td>\n",
              "      <td>-0.784794</td>\n",
              "      <td>0.043190</td>\n",
              "      <td>0.865277</td>\n",
              "      <td>1.769145</td>\n",
              "      <td>-0.292901</td>\n",
              "      <td>0.642516</td>\n",
              "      <td>-1.165163</td>\n",
              "    </tr>\n",
              "  </tbody>\n",
              "</table>\n",
              "</div>\n",
              "      <button class=\"colab-df-convert\" onclick=\"convertToInteractive('df-9b58513f-e7f7-4ad3-9359-9cb9c4a3b045')\"\n",
              "              title=\"Convert this dataframe to an interactive table.\"\n",
              "              style=\"display:none;\">\n",
              "        \n",
              "  <svg xmlns=\"http://www.w3.org/2000/svg\" height=\"24px\"viewBox=\"0 0 24 24\"\n",
              "       width=\"24px\">\n",
              "    <path d=\"M0 0h24v24H0V0z\" fill=\"none\"/>\n",
              "    <path d=\"M18.56 5.44l.94 2.06.94-2.06 2.06-.94-2.06-.94-.94-2.06-.94 2.06-2.06.94zm-11 1L8.5 8.5l.94-2.06 2.06-.94-2.06-.94L8.5 2.5l-.94 2.06-2.06.94zm10 10l.94 2.06.94-2.06 2.06-.94-2.06-.94-.94-2.06-.94 2.06-2.06.94z\"/><path d=\"M17.41 7.96l-1.37-1.37c-.4-.4-.92-.59-1.43-.59-.52 0-1.04.2-1.43.59L10.3 9.45l-7.72 7.72c-.78.78-.78 2.05 0 2.83L4 21.41c.39.39.9.59 1.41.59.51 0 1.02-.2 1.41-.59l7.78-7.78 2.81-2.81c.8-.78.8-2.07 0-2.86zM5.41 20L4 18.59l7.72-7.72 1.47 1.35L5.41 20z\"/>\n",
              "  </svg>\n",
              "      </button>\n",
              "      \n",
              "  <style>\n",
              "    .colab-df-container {\n",
              "      display:flex;\n",
              "      flex-wrap:wrap;\n",
              "      gap: 12px;\n",
              "    }\n",
              "\n",
              "    .colab-df-convert {\n",
              "      background-color: #E8F0FE;\n",
              "      border: none;\n",
              "      border-radius: 50%;\n",
              "      cursor: pointer;\n",
              "      display: none;\n",
              "      fill: #1967D2;\n",
              "      height: 32px;\n",
              "      padding: 0 0 0 0;\n",
              "      width: 32px;\n",
              "    }\n",
              "\n",
              "    .colab-df-convert:hover {\n",
              "      background-color: #E2EBFA;\n",
              "      box-shadow: 0px 1px 2px rgba(60, 64, 67, 0.3), 0px 1px 3px 1px rgba(60, 64, 67, 0.15);\n",
              "      fill: #174EA6;\n",
              "    }\n",
              "\n",
              "    [theme=dark] .colab-df-convert {\n",
              "      background-color: #3B4455;\n",
              "      fill: #D2E3FC;\n",
              "    }\n",
              "\n",
              "    [theme=dark] .colab-df-convert:hover {\n",
              "      background-color: #434B5C;\n",
              "      box-shadow: 0px 1px 3px 1px rgba(0, 0, 0, 0.15);\n",
              "      filter: drop-shadow(0px 1px 2px rgba(0, 0, 0, 0.3));\n",
              "      fill: #FFFFFF;\n",
              "    }\n",
              "  </style>\n",
              "\n",
              "      <script>\n",
              "        const buttonEl =\n",
              "          document.querySelector('#df-9b58513f-e7f7-4ad3-9359-9cb9c4a3b045 button.colab-df-convert');\n",
              "        buttonEl.style.display =\n",
              "          google.colab.kernel.accessAllowed ? 'block' : 'none';\n",
              "\n",
              "        async function convertToInteractive(key) {\n",
              "          const element = document.querySelector('#df-9b58513f-e7f7-4ad3-9359-9cb9c4a3b045');\n",
              "          const dataTable =\n",
              "            await google.colab.kernel.invokeFunction('convertToInteractive',\n",
              "                                                     [key], {});\n",
              "          if (!dataTable) return;\n",
              "\n",
              "          const docLinkHtml = 'Like what you see? Visit the ' +\n",
              "            '<a target=\"_blank\" href=https://colab.research.google.com/notebooks/data_table.ipynb>data table notebook</a>'\n",
              "            + ' to learn more about interactive tables.';\n",
              "          element.innerHTML = '';\n",
              "          dataTable['output_type'] = 'display_data';\n",
              "          await google.colab.output.renderOutput(dataTable, element);\n",
              "          const docLink = document.createElement('div');\n",
              "          docLink.innerHTML = docLinkHtml;\n",
              "          element.appendChild(docLink);\n",
              "        }\n",
              "      </script>\n",
              "    </div>\n",
              "  </div>\n",
              "  "
            ],
            "text/plain": [
              "    0    1    2    3    4   ...        32        33        34        35        36\n",
              "0  0.0  0.0  0.0  1.0  0.0  ... -1.425162  0.701673  0.256288  0.045610 -1.165163\n",
              "1  0.0  0.0  0.0  0.0  0.0  ... -1.425162 -0.324307 -1.940468  1.389575 -1.165163\n",
              "2  0.0  0.0  0.0  0.0  0.0  ...  0.865277 -0.932453  0.805477  1.389575  1.405049\n",
              "3  0.0  0.0  0.0  0.0  0.0  ...  0.101797  0.230097 -1.391279 -1.406740  0.633986\n",
              "4  0.0  0.0  1.0  0.0  0.0  ...  0.865277  1.769145 -0.292901  0.642516 -1.165163\n",
              "\n",
              "[5 rows x 37 columns]"
            ]
          },
          "metadata": {},
          "execution_count": 61
        }
      ]
    },
    {
      "cell_type": "code",
      "source": [
        "params = {'n_estimators':[10,20,30], 'max_depth':[2,3,4]}            #crating a parameters like n_estimators and max_depth of the tree"
      ],
      "metadata": {
        "id": "ZxwD3ifW3_zk"
      },
      "execution_count": null,
      "outputs": []
    },
    {
      "cell_type": "code",
      "source": [
        "gs = GridSearchCV(estimator = rfc ,param_grid = params ,cv =5 , n_jobs =-1)    #implementing the grid search cv by sending parameters into it"
      ],
      "metadata": {
        "id": "ir2CBncl3_9e"
      },
      "execution_count": null,
      "outputs": []
    },
    {
      "cell_type": "code",
      "source": [
        "gs.fit(X_train,y_train)                        #fitting the model using the grid search cv algorithm"
      ],
      "metadata": {
        "colab": {
          "base_uri": "https://localhost:8080/"
        },
        "id": "-z_rHDftvp2B",
        "outputId": "2ec63f3c-0bf6-4ae3-fc94-0e3db070702b"
      },
      "execution_count": null,
      "outputs": [
        {
          "output_type": "stream",
          "name": "stderr",
          "text": [
            "/usr/local/lib/python3.7/dist-packages/sklearn/model_selection/_split.py:680: UserWarning: The least populated class in y has only 2 members, which is less than n_splits=5.\n",
            "  UserWarning,\n"
          ]
        },
        {
          "output_type": "execute_result",
          "data": {
            "text/plain": [
              "GridSearchCV(cv=5,\n",
              "             estimator=RandomForestClassifier(criterion='entropy',\n",
              "                                              n_estimators=51),\n",
              "             n_jobs=-1,\n",
              "             param_grid={'max_depth': [2, 3, 4], 'n_estimators': [10, 20, 30]})"
            ]
          },
          "metadata": {},
          "execution_count": 64
        }
      ]
    },
    {
      "cell_type": "code",
      "source": [
        "gs.cv_results_                             #getting the cv results using the gridsearch algorithm declared function"
      ],
      "metadata": {
        "colab": {
          "base_uri": "https://localhost:8080/"
        },
        "id": "V1kEqcOO4AK9",
        "outputId": "63aac98c-3828-4f9e-8d8e-749bd30d4c9c"
      },
      "execution_count": null,
      "outputs": [
        {
          "output_type": "execute_result",
          "data": {
            "text/plain": [
              "{'mean_fit_time': array([0.02503347, 0.04688792, 0.07119823, 0.0251029 , 0.04654441,\n",
              "        0.06691036, 0.02798233, 0.04660544, 0.06231656]),\n",
              " 'mean_score_time': array([0.00572495, 0.00673022, 0.00911198, 0.00496407, 0.00689378,\n",
              "        0.00827718, 0.00522947, 0.00831661, 0.00756645]),\n",
              " 'mean_test_score': array([0.13333333, 0.2       , 0.2       , 0.06666667, 0.33333333,\n",
              "        0.26666667, 0.2       , 0.26666667, 0.13333333]),\n",
              " 'param_max_depth': masked_array(data=[2, 2, 2, 3, 3, 3, 4, 4, 4],\n",
              "              mask=[False, False, False, False, False, False, False, False,\n",
              "                    False],\n",
              "        fill_value='?',\n",
              "             dtype=object),\n",
              " 'param_n_estimators': masked_array(data=[10, 20, 30, 10, 20, 30, 10, 20, 30],\n",
              "              mask=[False, False, False, False, False, False, False, False,\n",
              "                    False],\n",
              "        fill_value='?',\n",
              "             dtype=object),\n",
              " 'params': [{'max_depth': 2, 'n_estimators': 10},\n",
              "  {'max_depth': 2, 'n_estimators': 20},\n",
              "  {'max_depth': 2, 'n_estimators': 30},\n",
              "  {'max_depth': 3, 'n_estimators': 10},\n",
              "  {'max_depth': 3, 'n_estimators': 20},\n",
              "  {'max_depth': 3, 'n_estimators': 30},\n",
              "  {'max_depth': 4, 'n_estimators': 10},\n",
              "  {'max_depth': 4, 'n_estimators': 20},\n",
              "  {'max_depth': 4, 'n_estimators': 30}],\n",
              " 'rank_test_score': array([7, 4, 4, 9, 1, 2, 4, 2, 7], dtype=int32),\n",
              " 'split0_test_score': array([0.33333333, 0.33333333, 0.        , 0.        , 0.33333333,\n",
              "        0.66666667, 0.33333333, 0.33333333, 0.        ]),\n",
              " 'split1_test_score': array([0.        , 0.        , 0.33333333, 0.        , 0.33333333,\n",
              "        0.        , 0.        , 0.        , 0.        ]),\n",
              " 'split2_test_score': array([0.33333333, 0.66666667, 0.66666667, 0.        , 0.66666667,\n",
              "        0.33333333, 0.66666667, 0.33333333, 0.66666667]),\n",
              " 'split3_test_score': array([0.        , 0.        , 0.        , 0.33333333, 0.33333333,\n",
              "        0.33333333, 0.        , 0.33333333, 0.        ]),\n",
              " 'split4_test_score': array([0.        , 0.        , 0.        , 0.        , 0.        ,\n",
              "        0.        , 0.        , 0.33333333, 0.        ]),\n",
              " 'std_fit_time': array([0.00172436, 0.00143768, 0.00384715, 0.00126062, 0.00228029,\n",
              "        0.00203854, 0.00441635, 0.00271427, 0.00663981]),\n",
              " 'std_score_time': array([1.68783662e-03, 8.41758192e-05, 1.35366164e-03, 7.65616073e-05,\n",
              "        2.53796756e-04, 1.16434905e-04, 5.39543868e-04, 1.96429995e-03,\n",
              "        1.40867448e-03]),\n",
              " 'std_test_score': array([0.16329932, 0.26666667, 0.26666667, 0.13333333, 0.21081851,\n",
              "        0.24944383, 0.26666667, 0.13333333, 0.26666667])}"
            ]
          },
          "metadata": {},
          "execution_count": 65
        }
      ]
    },
    {
      "cell_type": "code",
      "source": [
        "pd.DataFrame(gs.cv_results_)                #creating a dataframe for the cv results and printing it in a tabular format"
      ],
      "metadata": {
        "colab": {
          "base_uri": "https://localhost:8080/",
          "height": 864
        },
        "id": "V9I5O6VD6Gjd",
        "outputId": "2c6c387b-8295-49a0-db45-f222f64f3476"
      },
      "execution_count": null,
      "outputs": [
        {
          "output_type": "execute_result",
          "data": {
            "text/html": [
              "\n",
              "  <div id=\"df-741f9514-8008-4ea8-ae70-ab5d172d9a72\">\n",
              "    <div class=\"colab-df-container\">\n",
              "      <div>\n",
              "<style scoped>\n",
              "    .dataframe tbody tr th:only-of-type {\n",
              "        vertical-align: middle;\n",
              "    }\n",
              "\n",
              "    .dataframe tbody tr th {\n",
              "        vertical-align: top;\n",
              "    }\n",
              "\n",
              "    .dataframe thead th {\n",
              "        text-align: right;\n",
              "    }\n",
              "</style>\n",
              "<table border=\"1\" class=\"dataframe\">\n",
              "  <thead>\n",
              "    <tr style=\"text-align: right;\">\n",
              "      <th></th>\n",
              "      <th>mean_fit_time</th>\n",
              "      <th>std_fit_time</th>\n",
              "      <th>mean_score_time</th>\n",
              "      <th>std_score_time</th>\n",
              "      <th>param_max_depth</th>\n",
              "      <th>param_n_estimators</th>\n",
              "      <th>params</th>\n",
              "      <th>split0_test_score</th>\n",
              "      <th>split1_test_score</th>\n",
              "      <th>split2_test_score</th>\n",
              "      <th>split3_test_score</th>\n",
              "      <th>split4_test_score</th>\n",
              "      <th>mean_test_score</th>\n",
              "      <th>std_test_score</th>\n",
              "      <th>rank_test_score</th>\n",
              "    </tr>\n",
              "  </thead>\n",
              "  <tbody>\n",
              "    <tr>\n",
              "      <th>0</th>\n",
              "      <td>0.025033</td>\n",
              "      <td>0.001724</td>\n",
              "      <td>0.005725</td>\n",
              "      <td>0.001688</td>\n",
              "      <td>2</td>\n",
              "      <td>10</td>\n",
              "      <td>{'max_depth': 2, 'n_estimators': 10}</td>\n",
              "      <td>0.333333</td>\n",
              "      <td>0.000000</td>\n",
              "      <td>0.333333</td>\n",
              "      <td>0.000000</td>\n",
              "      <td>0.000000</td>\n",
              "      <td>0.133333</td>\n",
              "      <td>0.163299</td>\n",
              "      <td>7</td>\n",
              "    </tr>\n",
              "    <tr>\n",
              "      <th>1</th>\n",
              "      <td>0.046888</td>\n",
              "      <td>0.001438</td>\n",
              "      <td>0.006730</td>\n",
              "      <td>0.000084</td>\n",
              "      <td>2</td>\n",
              "      <td>20</td>\n",
              "      <td>{'max_depth': 2, 'n_estimators': 20}</td>\n",
              "      <td>0.333333</td>\n",
              "      <td>0.000000</td>\n",
              "      <td>0.666667</td>\n",
              "      <td>0.000000</td>\n",
              "      <td>0.000000</td>\n",
              "      <td>0.200000</td>\n",
              "      <td>0.266667</td>\n",
              "      <td>4</td>\n",
              "    </tr>\n",
              "    <tr>\n",
              "      <th>2</th>\n",
              "      <td>0.071198</td>\n",
              "      <td>0.003847</td>\n",
              "      <td>0.009112</td>\n",
              "      <td>0.001354</td>\n",
              "      <td>2</td>\n",
              "      <td>30</td>\n",
              "      <td>{'max_depth': 2, 'n_estimators': 30}</td>\n",
              "      <td>0.000000</td>\n",
              "      <td>0.333333</td>\n",
              "      <td>0.666667</td>\n",
              "      <td>0.000000</td>\n",
              "      <td>0.000000</td>\n",
              "      <td>0.200000</td>\n",
              "      <td>0.266667</td>\n",
              "      <td>4</td>\n",
              "    </tr>\n",
              "    <tr>\n",
              "      <th>3</th>\n",
              "      <td>0.025103</td>\n",
              "      <td>0.001261</td>\n",
              "      <td>0.004964</td>\n",
              "      <td>0.000077</td>\n",
              "      <td>3</td>\n",
              "      <td>10</td>\n",
              "      <td>{'max_depth': 3, 'n_estimators': 10}</td>\n",
              "      <td>0.000000</td>\n",
              "      <td>0.000000</td>\n",
              "      <td>0.000000</td>\n",
              "      <td>0.333333</td>\n",
              "      <td>0.000000</td>\n",
              "      <td>0.066667</td>\n",
              "      <td>0.133333</td>\n",
              "      <td>9</td>\n",
              "    </tr>\n",
              "    <tr>\n",
              "      <th>4</th>\n",
              "      <td>0.046544</td>\n",
              "      <td>0.002280</td>\n",
              "      <td>0.006894</td>\n",
              "      <td>0.000254</td>\n",
              "      <td>3</td>\n",
              "      <td>20</td>\n",
              "      <td>{'max_depth': 3, 'n_estimators': 20}</td>\n",
              "      <td>0.333333</td>\n",
              "      <td>0.333333</td>\n",
              "      <td>0.666667</td>\n",
              "      <td>0.333333</td>\n",
              "      <td>0.000000</td>\n",
              "      <td>0.333333</td>\n",
              "      <td>0.210819</td>\n",
              "      <td>1</td>\n",
              "    </tr>\n",
              "    <tr>\n",
              "      <th>5</th>\n",
              "      <td>0.066910</td>\n",
              "      <td>0.002039</td>\n",
              "      <td>0.008277</td>\n",
              "      <td>0.000116</td>\n",
              "      <td>3</td>\n",
              "      <td>30</td>\n",
              "      <td>{'max_depth': 3, 'n_estimators': 30}</td>\n",
              "      <td>0.666667</td>\n",
              "      <td>0.000000</td>\n",
              "      <td>0.333333</td>\n",
              "      <td>0.333333</td>\n",
              "      <td>0.000000</td>\n",
              "      <td>0.266667</td>\n",
              "      <td>0.249444</td>\n",
              "      <td>2</td>\n",
              "    </tr>\n",
              "    <tr>\n",
              "      <th>6</th>\n",
              "      <td>0.027982</td>\n",
              "      <td>0.004416</td>\n",
              "      <td>0.005229</td>\n",
              "      <td>0.000540</td>\n",
              "      <td>4</td>\n",
              "      <td>10</td>\n",
              "      <td>{'max_depth': 4, 'n_estimators': 10}</td>\n",
              "      <td>0.333333</td>\n",
              "      <td>0.000000</td>\n",
              "      <td>0.666667</td>\n",
              "      <td>0.000000</td>\n",
              "      <td>0.000000</td>\n",
              "      <td>0.200000</td>\n",
              "      <td>0.266667</td>\n",
              "      <td>4</td>\n",
              "    </tr>\n",
              "    <tr>\n",
              "      <th>7</th>\n",
              "      <td>0.046605</td>\n",
              "      <td>0.002714</td>\n",
              "      <td>0.008317</td>\n",
              "      <td>0.001964</td>\n",
              "      <td>4</td>\n",
              "      <td>20</td>\n",
              "      <td>{'max_depth': 4, 'n_estimators': 20}</td>\n",
              "      <td>0.333333</td>\n",
              "      <td>0.000000</td>\n",
              "      <td>0.333333</td>\n",
              "      <td>0.333333</td>\n",
              "      <td>0.333333</td>\n",
              "      <td>0.266667</td>\n",
              "      <td>0.133333</td>\n",
              "      <td>2</td>\n",
              "    </tr>\n",
              "    <tr>\n",
              "      <th>8</th>\n",
              "      <td>0.062317</td>\n",
              "      <td>0.006640</td>\n",
              "      <td>0.007566</td>\n",
              "      <td>0.001409</td>\n",
              "      <td>4</td>\n",
              "      <td>30</td>\n",
              "      <td>{'max_depth': 4, 'n_estimators': 30}</td>\n",
              "      <td>0.000000</td>\n",
              "      <td>0.000000</td>\n",
              "      <td>0.666667</td>\n",
              "      <td>0.000000</td>\n",
              "      <td>0.000000</td>\n",
              "      <td>0.133333</td>\n",
              "      <td>0.266667</td>\n",
              "      <td>7</td>\n",
              "    </tr>\n",
              "  </tbody>\n",
              "</table>\n",
              "</div>\n",
              "      <button class=\"colab-df-convert\" onclick=\"convertToInteractive('df-741f9514-8008-4ea8-ae70-ab5d172d9a72')\"\n",
              "              title=\"Convert this dataframe to an interactive table.\"\n",
              "              style=\"display:none;\">\n",
              "        \n",
              "  <svg xmlns=\"http://www.w3.org/2000/svg\" height=\"24px\"viewBox=\"0 0 24 24\"\n",
              "       width=\"24px\">\n",
              "    <path d=\"M0 0h24v24H0V0z\" fill=\"none\"/>\n",
              "    <path d=\"M18.56 5.44l.94 2.06.94-2.06 2.06-.94-2.06-.94-.94-2.06-.94 2.06-2.06.94zm-11 1L8.5 8.5l.94-2.06 2.06-.94-2.06-.94L8.5 2.5l-.94 2.06-2.06.94zm10 10l.94 2.06.94-2.06 2.06-.94-2.06-.94-.94-2.06-.94 2.06-2.06.94z\"/><path d=\"M17.41 7.96l-1.37-1.37c-.4-.4-.92-.59-1.43-.59-.52 0-1.04.2-1.43.59L10.3 9.45l-7.72 7.72c-.78.78-.78 2.05 0 2.83L4 21.41c.39.39.9.59 1.41.59.51 0 1.02-.2 1.41-.59l7.78-7.78 2.81-2.81c.8-.78.8-2.07 0-2.86zM5.41 20L4 18.59l7.72-7.72 1.47 1.35L5.41 20z\"/>\n",
              "  </svg>\n",
              "      </button>\n",
              "      \n",
              "  <style>\n",
              "    .colab-df-container {\n",
              "      display:flex;\n",
              "      flex-wrap:wrap;\n",
              "      gap: 12px;\n",
              "    }\n",
              "\n",
              "    .colab-df-convert {\n",
              "      background-color: #E8F0FE;\n",
              "      border: none;\n",
              "      border-radius: 50%;\n",
              "      cursor: pointer;\n",
              "      display: none;\n",
              "      fill: #1967D2;\n",
              "      height: 32px;\n",
              "      padding: 0 0 0 0;\n",
              "      width: 32px;\n",
              "    }\n",
              "\n",
              "    .colab-df-convert:hover {\n",
              "      background-color: #E2EBFA;\n",
              "      box-shadow: 0px 1px 2px rgba(60, 64, 67, 0.3), 0px 1px 3px 1px rgba(60, 64, 67, 0.15);\n",
              "      fill: #174EA6;\n",
              "    }\n",
              "\n",
              "    [theme=dark] .colab-df-convert {\n",
              "      background-color: #3B4455;\n",
              "      fill: #D2E3FC;\n",
              "    }\n",
              "\n",
              "    [theme=dark] .colab-df-convert:hover {\n",
              "      background-color: #434B5C;\n",
              "      box-shadow: 0px 1px 3px 1px rgba(0, 0, 0, 0.15);\n",
              "      filter: drop-shadow(0px 1px 2px rgba(0, 0, 0, 0.3));\n",
              "      fill: #FFFFFF;\n",
              "    }\n",
              "  </style>\n",
              "\n",
              "      <script>\n",
              "        const buttonEl =\n",
              "          document.querySelector('#df-741f9514-8008-4ea8-ae70-ab5d172d9a72 button.colab-df-convert');\n",
              "        buttonEl.style.display =\n",
              "          google.colab.kernel.accessAllowed ? 'block' : 'none';\n",
              "\n",
              "        async function convertToInteractive(key) {\n",
              "          const element = document.querySelector('#df-741f9514-8008-4ea8-ae70-ab5d172d9a72');\n",
              "          const dataTable =\n",
              "            await google.colab.kernel.invokeFunction('convertToInteractive',\n",
              "                                                     [key], {});\n",
              "          if (!dataTable) return;\n",
              "\n",
              "          const docLinkHtml = 'Like what you see? Visit the ' +\n",
              "            '<a target=\"_blank\" href=https://colab.research.google.com/notebooks/data_table.ipynb>data table notebook</a>'\n",
              "            + ' to learn more about interactive tables.';\n",
              "          element.innerHTML = '';\n",
              "          dataTable['output_type'] = 'display_data';\n",
              "          await google.colab.output.renderOutput(dataTable, element);\n",
              "          const docLink = document.createElement('div');\n",
              "          docLink.innerHTML = docLinkHtml;\n",
              "          element.appendChild(docLink);\n",
              "        }\n",
              "      </script>\n",
              "    </div>\n",
              "  </div>\n",
              "  "
            ],
            "text/plain": [
              "   mean_fit_time  std_fit_time  ...  std_test_score  rank_test_score\n",
              "0       0.025033      0.001724  ...        0.163299                7\n",
              "1       0.046888      0.001438  ...        0.266667                4\n",
              "2       0.071198      0.003847  ...        0.266667                4\n",
              "3       0.025103      0.001261  ...        0.133333                9\n",
              "4       0.046544      0.002280  ...        0.210819                1\n",
              "5       0.066910      0.002039  ...        0.249444                2\n",
              "6       0.027982      0.004416  ...        0.266667                4\n",
              "7       0.046605      0.002714  ...        0.133333                2\n",
              "8       0.062317      0.006640  ...        0.266667                7\n",
              "\n",
              "[9 rows x 15 columns]"
            ]
          },
          "metadata": {},
          "execution_count": 66
        }
      ]
    },
    {
      "cell_type": "code",
      "source": [
        "gs.best_params_                    #getting best solution from the dataframe of the cv resuls   based on the rank test"
      ],
      "metadata": {
        "colab": {
          "base_uri": "https://localhost:8080/"
        },
        "id": "NEvfjDJI6Gpj",
        "outputId": "7d479105-9aaa-4512-cae7-4153408697bd"
      },
      "execution_count": null,
      "outputs": [
        {
          "output_type": "execute_result",
          "data": {
            "text/plain": [
              "{'max_depth': 3, 'n_estimators': 20}"
            ]
          },
          "metadata": {},
          "execution_count": 67
        }
      ]
    },
    {
      "cell_type": "code",
      "source": [
        "gb_pred = gs.predict(X_test)    #predicting the xtest values and assinging it into  a new variable\n"
      ],
      "metadata": {
        "id": "WZcu4gMz9-6D"
      },
      "execution_count": null,
      "outputs": []
    },
    {
      "cell_type": "code",
      "source": [
        "gb_pred            #printing the array of predicted values"
      ],
      "metadata": {
        "colab": {
          "base_uri": "https://localhost:8080/"
        },
        "id": "S37_OTF19-9N",
        "outputId": "aa537d1e-af39-44dd-b662-beca6e8cdc64"
      },
      "execution_count": null,
      "outputs": [
        {
          "output_type": "execute_result",
          "data": {
            "text/plain": [
              "array([724, 856, 724, 724, 724, 724, 925, 724, 925, 856, 925, 724, 724,\n",
              "       536, 724, 724, 724, 856, 391, 856, 391, 724, 536, 925, 724, 391,\n",
              "       724, 856, 724, 536, 724, 724, 856, 724, 925])"
            ]
          },
          "metadata": {},
          "execution_count": 69
        }
      ]
    },
    {
      "cell_type": "code",
      "source": [
        "#Creating the Confusion matrix \n",
        "\n",
        "cm_gs= confusion_matrix(y_test, gb_pred)        #creating a confusion matrix\n",
        "print(cm_gs)                                        # printing the confusion matrix\n",
        "print(classification_report(y_test, gb_pred)) ;          #printing the classification report for the dataset"
      ],
      "metadata": {
        "colab": {
          "base_uri": "https://localhost:8080/"
        },
        "id": "7sQVUiWZ9_Ag",
        "outputId": "8b9dbd6f-d01c-4862-ce0e-40c53e3b6562"
      },
      "execution_count": null,
      "outputs": [
        {
          "output_type": "stream",
          "name": "stdout",
          "text": [
            "[[2 0 3 1 1]\n",
            " [0 0 1 0 1]\n",
            " [1 2 8 3 2]\n",
            " [0 0 4 0 0]\n",
            " [0 1 2 2 1]]\n",
            "              precision    recall  f1-score   support\n",
            "\n",
            "         391       0.67      0.29      0.40         7\n",
            "         536       0.00      0.00      0.00         2\n",
            "         724       0.44      0.50      0.47        16\n",
            "         856       0.00      0.00      0.00         4\n",
            "         925       0.20      0.17      0.18         6\n",
            "\n",
            "    accuracy                           0.31        35\n",
            "   macro avg       0.26      0.19      0.21        35\n",
            "weighted avg       0.37      0.31      0.33        35\n",
            "\n"
          ]
        }
      ]
    },
    {
      "cell_type": "code",
      "source": [
        "\n",
        "mean_absolute_error(y_test, gb_pred)            #getting the mean absolute error for the dataset in the gridsearch search cv algorithm block"
      ],
      "metadata": {
        "colab": {
          "base_uri": "https://localhost:8080/"
        },
        "id": "S7L2SVrT9_Dj",
        "outputId": "34cdbe94-ff91-47b9-9b25-7617a5129faf"
      },
      "execution_count": null,
      "outputs": [
        {
          "output_type": "execute_result",
          "data": {
            "text/plain": [
              "158.25714285714287"
            ]
          },
          "metadata": {},
          "execution_count": 87
        }
      ]
    },
    {
      "cell_type": "code",
      "source": [
        "gs.predict_proba(X_test)                 #predicting the probability of the x-test"
      ],
      "metadata": {
        "colab": {
          "base_uri": "https://localhost:8080/"
        },
        "id": "1-wdspMn9_GV",
        "outputId": "a272d774-19e2-4119-e889-d65ca58117f5"
      },
      "execution_count": null,
      "outputs": [
        {
          "output_type": "execute_result",
          "data": {
            "text/plain": [
              "array([[0.225     , 0.15416667, 0.38333333, 0.1375    , 0.1       ],\n",
              "       [0.2       , 0.0625    , 0.3075    , 0.38      , 0.05      ],\n",
              "       [0.26      , 0.075     , 0.435     , 0.18      , 0.05      ],\n",
              "       [0.21      , 0.1625    , 0.29416667, 0.23333333, 0.1       ],\n",
              "       [0.125     , 0.0625    , 0.595     , 0.2175    , 0.        ],\n",
              "       [0.14166667, 0.01666667, 0.585     , 0.20666667, 0.05      ],\n",
              "       [0.025     , 0.19583333, 0.15416667, 0.25      , 0.375     ],\n",
              "       [0.025     , 0.1375    , 0.4575    , 0.28      , 0.1       ],\n",
              "       [0.1       , 0.28333333, 0.15      , 0.        , 0.46666667],\n",
              "       [0.2       , 0.24166667, 0.12083333, 0.3375    , 0.1       ],\n",
              "       [0.06      , 0.2       , 0.2225    , 0.2175    , 0.3       ],\n",
              "       [0.20166667, 0.1125    , 0.5       , 0.16916667, 0.01666667],\n",
              "       [0.225     , 0.05416667, 0.47083333, 0.25      , 0.        ],\n",
              "       [0.125     , 0.4125    , 0.1375    , 0.        , 0.325     ],\n",
              "       [0.275     , 0.02916667, 0.59583333, 0.1       , 0.        ],\n",
              "       [0.275     , 0.0125    , 0.57      , 0.1425    , 0.        ],\n",
              "       [0.225     , 0.32083333, 0.3375    , 0.05      , 0.06666667],\n",
              "       [0.05      , 0.1625    , 0.12      , 0.5675    , 0.1       ],\n",
              "       [0.275     , 0.2       , 0.125     , 0.23333333, 0.16666667],\n",
              "       [0.2       , 0.02916667, 0.26      , 0.51083333, 0.        ],\n",
              "       [0.34166667, 0.125     , 0.30416667, 0.2125    , 0.01666667],\n",
              "       [0.01      , 0.08333333, 0.40833333, 0.22333333, 0.275     ],\n",
              "       [0.1       , 0.425     , 0.25      , 0.05      , 0.175     ],\n",
              "       [0.2       , 0.1       , 0.15      , 0.25      , 0.3       ],\n",
              "       [0.25      , 0.16666667, 0.42083333, 0.0125    , 0.15      ],\n",
              "       [0.35      , 0.07916667, 0.28083333, 0.29      , 0.        ],\n",
              "       [0.36      , 0.09166667, 0.41083333, 0.0125    , 0.125     ],\n",
              "       [0.05      , 0.1625    , 0.07      , 0.6175    , 0.1       ],\n",
              "       [0.26666667, 0.04166667, 0.57916667, 0.1125    , 0.        ],\n",
              "       [0.2       , 0.33333333, 0.1125    , 0.0875    , 0.26666667],\n",
              "       [0.285     , 0.025     , 0.46      , 0.13      , 0.1       ],\n",
              "       [0.29166667, 0.11666667, 0.40583333, 0.13583333, 0.05      ],\n",
              "       [0.225     , 0.19166667, 0.19583333, 0.3375    , 0.05      ],\n",
              "       [0.16      , 0.07916667, 0.3275    , 0.23333333, 0.2       ],\n",
              "       [0.01      , 0.13333333, 0.34833333, 0.13333333, 0.375     ]])"
            ]
          },
          "metadata": {},
          "execution_count": 72
        }
      ]
    },
    {
      "cell_type": "code",
      "source": [
        "pred2 = gs.predict(X_test) #peredicting the x-test"
      ],
      "metadata": {
        "id": "Q2PnadDy9_JH"
      },
      "execution_count": null,
      "outputs": []
    },
    {
      "cell_type": "code",
      "source": [
        "cm_using_gs = confusion_matrix(y_test, pred2)      #creting a confusion matrix \n",
        "print(cm_using_gs)                               #printing the confusion matrix"
      ],
      "metadata": {
        "colab": {
          "base_uri": "https://localhost:8080/"
        },
        "id": "j_tlARuq9_Ly",
        "outputId": "2949f9be-8fb1-4432-cbc2-b5d65030d9f4"
      },
      "execution_count": null,
      "outputs": [
        {
          "output_type": "stream",
          "name": "stdout",
          "text": [
            "[[2 0 3 1 1]\n",
            " [0 0 1 0 1]\n",
            " [1 2 8 3 2]\n",
            " [0 0 4 0 0]\n",
            " [0 1 2 2 1]]\n"
          ]
        }
      ]
    },
    {
      "cell_type": "code",
      "source": [
        "print('Accuracy:', accuracy_score(y_test, pred2))            #printing the accuracy_score for the ytest and predition ava;ues"
      ],
      "metadata": {
        "colab": {
          "base_uri": "https://localhost:8080/"
        },
        "id": "kTVGBJyb9_OO",
        "outputId": "f274532c-1036-4144-b19e-39a590414058"
      },
      "execution_count": null,
      "outputs": [
        {
          "output_type": "stream",
          "name": "stdout",
          "text": [
            "Accuracy: 0.3142857142857143\n"
          ]
        }
      ]
    },
    {
      "cell_type": "code",
      "source": [
        "precision2 = cm[3][3]/(cm[2][0]+cm[3][3])           #precision of the above confusion  matrix\n",
        "print('Precision:', precision2);"
      ],
      "metadata": {
        "colab": {
          "base_uri": "https://localhost:8080/"
        },
        "id": "O2wLCSI-6G_C",
        "outputId": "77b84220-259b-423e-9b1d-b929a39c9d3c"
      },
      "execution_count": null,
      "outputs": [
        {
          "output_type": "stream",
          "name": "stdout",
          "text": [
            "Precision: 0.5\n"
          ]
        }
      ]
    },
    {
      "cell_type": "code",
      "source": [
        "recall2 = cm[3][3]/(cm[0][2]+cm[3][3])                  #the recall score for the above confusion matrix \n",
        "print('Recall:', recall2);"
      ],
      "metadata": {
        "colab": {
          "base_uri": "https://localhost:8080/"
        },
        "id": "bIxn5YzlAK8E",
        "outputId": "b0646fd1-0cc6-4a55-81c4-117c348e8eb9"
      },
      "execution_count": null,
      "outputs": [
        {
          "output_type": "stream",
          "name": "stdout",
          "text": [
            "Recall: 0.2\n"
          ]
        }
      ]
    },
    {
      "cell_type": "code",
      "source": [
        "F1_2 = 2*(precision2*recall2)/(precision2+recall2)             #the f1_score for the above confusion matrix based on the precision and the recall values\n",
        "print('F1:', F1_2)"
      ],
      "metadata": {
        "colab": {
          "base_uri": "https://localhost:8080/"
        },
        "id": "DV15UtDJALFb",
        "outputId": "3e59ab53-f3c7-407d-ce65-94fe01c400f4"
      },
      "execution_count": null,
      "outputs": [
        {
          "output_type": "stream",
          "name": "stdout",
          "text": [
            "F1: 0.28571428571428575\n"
          ]
        }
      ]
    },
    {
      "cell_type": "code",
      "source": [
        " # PLOT ROC                                              \n",
        "plt.plot([0,0.8],[0,4],'k--')                   \n",
        "plt.xlim([-0.2,5])                           #the intervals of the x axis is between -0.2 and 5\n",
        "plt.ylim([-0.2,4])                                 #the intervals for the y-axis is between -0.2 and 4\n",
        "plt.ylabel('True Positive Rate (TPR) i.e. Recall')           #the y axis is represented as recall\n",
        "plt.xlabel('False Positive Rate (FPR)')                          # the x axis is represented as the false postive rate\n",
        "plt.show()"
      ],
      "metadata": {
        "colab": {
          "base_uri": "https://localhost:8080/",
          "height": 283
        },
        "id": "vWBrpAATAoAW",
        "outputId": "eed68743-c575-4b16-abb1-b2149965bf1c"
      },
      "execution_count": null,
      "outputs": [
        {
          "output_type": "display_data",
          "data": {
            "image/png": "[encoded data removed]",
            "text/plain": [
              "<Figure size 432x288 with 1 Axes>"
            ]
          },
          "metadata": {
            "needs_background": "light"
          }
        }
      ]
    },
    {
      "cell_type": "markdown",
      "source": [
        "\n",
        "# PRINTING THE DECISION TREE FOR DATASET"
      ],
      "metadata": {
        "id": "Mswt6c10iV-w"
      }
    },
    {
      "cell_type": "markdown",
      "source": [
        "Decision Trees  are  supervised learning method  that are used for classification and regression. The goal is to create a model that predicts the value of a target variable by learning simple decision rules inferred from the data features."
      ],
      "metadata": {
        "id": "A8YfMcpuzhyC"
      }
    },
    {
      "cell_type": "code",
      "source": [
        "from sklearn.tree import DecisionTreeClassifier                   #importing the package decision trees classifier from the sklearn          "
      ],
      "metadata": {
        "id": "N2Bs1j6kiZs8"
      },
      "execution_count": null,
      "outputs": []
    },
    {
      "cell_type": "code",
      "source": [
        "model = DecisionTreeClassifier(max_depth= 5)                     #assigning the functiona decision  tress to new variable"
      ],
      "metadata": {
        "id": "eoJK5YOtidPs"
      },
      "execution_count": null,
      "outputs": []
    },
    {
      "cell_type": "code",
      "source": [
        "model                                                            #calling the assigned variable"
      ],
      "metadata": {
        "colab": {
          "base_uri": "https://localhost:8080/"
        },
        "id": "CzufMycnidTR",
        "outputId": "89e90ff1-0a18-4331-acb7-2cd25e63f8ee"
      },
      "execution_count": null,
      "outputs": [
        {
          "output_type": "execute_result",
          "data": {
            "text/plain": [
              "DecisionTreeClassifier(max_depth=5)"
            ]
          },
          "metadata": {},
          "execution_count": 82
        }
      ]
    },
    {
      "cell_type": "code",
      "source": [
        "model.fit(X_train, y_train)                                     #fitting the model and we get the alogorithm used to fit the model"
      ],
      "metadata": {
        "colab": {
          "base_uri": "https://localhost:8080/"
        },
        "id": "2c2KSYmJidWJ",
        "outputId": "dbbf640b-5447-4223-c269-85713e487485"
      },
      "execution_count": null,
      "outputs": [
        {
          "output_type": "execute_result",
          "data": {
            "text/plain": [
              "DecisionTreeClassifier(max_depth=5)"
            ]
          },
          "metadata": {},
          "execution_count": 83
        }
      ]
    },
    {
      "cell_type": "code",
      "source": [
        "from sklearn.tree import plot_tree                       #importing the package plot tree to get the tree diagram for the given data"
      ],
      "metadata": {
        "id": "pYowcuRtiuvj"
      },
      "execution_count": null,
      "outputs": []
    },
    {
      "cell_type": "code",
      "source": [
        "plot_tree(model);                                                    #printing the  tree  with the level of 5"
      ],
      "metadata": {
        "colab": {
          "base_uri": "https://localhost:8080/",
          "height": 248
        },
        "id": "Ea7pwMsDi7fz",
        "outputId": "ba491bcd-ce4a-44e6-eb82-5c1ece335660"
      },
      "execution_count": null,
      "outputs": [
        {
          "output_type": "display_data",
          "data": {
            "image/png": "[encoded data removed]",
            "text/plain": [
              "<Figure size 432x288 with 1 Axes>"
            ]
          },
          "metadata": {
            "needs_background": "light"
          }
        }
      ]
    },
    {
      "cell_type": "markdown",
      "source": [
        "## The values of the dataset using the random forest classifier   \n",
        "      mean absolute error = 202.62857142857143\n",
        "      Accuracy: 0.22857142857142856\n",
        "      Precision: 0.8571428571428571\n",
        "      Recall: 0.6\n",
        "      F1: 0.7058823529411764"
      ],
      "metadata": {
        "id": "_m-o6Kn51EE-"
      }
    },
    {
      "cell_type": "markdown",
      "source": [
        "## The values of the datast using the logistic regression classifier\n",
        "       mean absolute error = 126.88571428571429\n",
        "       Accuracy: 0.45714285714285713\n",
        "       Precision: 0.8571428571428571\n",
        "       Recall: 0.6\n",
        "       F1: 0.7058823529411764"
      ],
      "metadata": {
        "id": "7q2Uu3lr18Ei"
      }
    },
    {
      "cell_type": "markdown",
      "source": [
        "## The values of the dataset using the grid search cv \n",
        "                  mean absolute error =158.25714285714287\n",
        "                  Accuracy: 0.3142857142857143\n",
        "                  Precision: 0.5\n",
        "                  Recall: 0.2\n",
        "                  F1: 0.28571428571428575"
      ],
      "metadata": {
        "id": "NqwTIRGL2gmi"
      }
    },
    {
      "cell_type": "markdown",
      "source": [
        "## FINALLY THE DECISION TREE IS CONSTRUCTED AND THE PRCISION AND ACCURACY IS HIGH FOR THE EMPLOYMENT DATASET BY USING THE LOGISTIC REGRESSION# "
      ],
      "metadata": {
        "id": "_dfjfIJtDct7"
      }
    }
  ]
}